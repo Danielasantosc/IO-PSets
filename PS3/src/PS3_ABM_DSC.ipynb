{
 "cells": [
  {
   "cell_type": "markdown",
   "metadata": {},
   "source": [
    "## Problem Set 3\n",
    "Daniela Santos Cárdenas, Ana Brás Monteiro"
   ]
  },
  {
   "cell_type": "code",
   "execution_count": 3,
   "metadata": {},
   "outputs": [],
   "source": [
    "# Importing the necessary libraries\n",
    "import pandas as pd\n",
    "import numpy as np\n",
    "import matplotlib.pyplot as plt\n",
    "import autograd.numpy as np\n",
    "from autograd import grad, jacobian\n",
    "import scipy.optimize as optimize\n",
    "from scipy.optimize import minimize\n"
   ]
  },
  {
   "cell_type": "code",
   "execution_count": 4,
   "metadata": {},
   "outputs": [],
   "source": [
    "# Import data \n",
    "\n",
    "df = pd.read_stata(\"../data/PS2_Data.dta\")\n",
    "\n",
    "# indiv - individual ID\n",
    "# age\n",
    "# SchD - schooling decision\n",
    "# WhCoD - white collar work decision\n",
    "# BlCoD - blue collar work decision\n",
    "# SchE - school experience\n",
    "# WhCoE - white collar work experience\n",
    "# BlCoE - blue collar work experience\n"
   ]
  },
  {
   "attachments": {},
   "cell_type": "markdown",
   "metadata": {},
   "source": [
    "### Question 1\n",
    "*Replicate Table 1 (choice distribution) and 2 (transition matrix) from Keane & Wolpin (1997). Reproduce a line graph similar to Figure 1, with a line for each career option.*\n",
    "\n",
    "What can you say about the relationship between age and choices? What about persistence and state dependence? "
   ]
  },
  {
   "cell_type": "code",
   "execution_count": 5,
   "metadata": {},
   "outputs": [],
   "source": [
    "# Table 1 simply shows number of observations and percentages of individuals at each age that chose school, home, white-collar,  blue-collar, miilitary, total\n",
    "\n",
    "table1 = df.groupby('age') \\\n",
    "        .agg(School_mean = ('SchD', 'mean'), School_sum = ('SchD', 'sum'), White_mean = ('WhCoD', 'mean'), White_sum = ('WhCoD', 'sum'), Blue_mean = ('BlCoD', 'mean'), Blue_sum = ('BlCoD', 'sum'), Total_mean = ('age', 'nunique'), Total_sum = ('age', 'count')) \n",
    "\n",
    "# Wasn't really figuring out how to do the total_mean, but this should just be =1, since it's just the sum of all the other %, so that just sums to 1"
   ]
  },
  {
   "cell_type": "code",
   "execution_count": 6,
   "metadata": {},
   "outputs": [
    {
     "data": {
      "text/html": [
       "<div>\n",
       "<style scoped>\n",
       "    .dataframe tbody tr th:only-of-type {\n",
       "        vertical-align: middle;\n",
       "    }\n",
       "\n",
       "    .dataframe tbody tr th {\n",
       "        vertical-align: top;\n",
       "    }\n",
       "\n",
       "    .dataframe thead th {\n",
       "        text-align: right;\n",
       "    }\n",
       "</style>\n",
       "<table border=\"1\" class=\"dataframe\">\n",
       "  <thead>\n",
       "    <tr style=\"text-align: right;\">\n",
       "      <th></th>\n",
       "      <th>School (Mean)</th>\n",
       "      <th>School (Sum)</th>\n",
       "      <th>White-Collar (Mean)</th>\n",
       "      <th>White-Collar (Sum)</th>\n",
       "      <th>Blue-Collar (Mean)</th>\n",
       "      <th>Blue-Collar (Sum)</th>\n",
       "      <th>Total (Mean)</th>\n",
       "      <th>Total(Sum)</th>\n",
       "    </tr>\n",
       "    <tr>\n",
       "      <th>age</th>\n",
       "      <th></th>\n",
       "      <th></th>\n",
       "      <th></th>\n",
       "      <th></th>\n",
       "      <th></th>\n",
       "      <th></th>\n",
       "      <th></th>\n",
       "      <th></th>\n",
       "    </tr>\n",
       "  </thead>\n",
       "  <tbody>\n",
       "    <tr>\n",
       "      <th>1</th>\n",
       "      <td>0.442</td>\n",
       "      <td>221.0</td>\n",
       "      <td>0.266</td>\n",
       "      <td>133.0</td>\n",
       "      <td>0.292</td>\n",
       "      <td>146.0</td>\n",
       "      <td>1</td>\n",
       "      <td>500</td>\n",
       "    </tr>\n",
       "    <tr>\n",
       "      <th>2</th>\n",
       "      <td>0.398</td>\n",
       "      <td>199.0</td>\n",
       "      <td>0.284</td>\n",
       "      <td>142.0</td>\n",
       "      <td>0.318</td>\n",
       "      <td>159.0</td>\n",
       "      <td>1</td>\n",
       "      <td>500</td>\n",
       "    </tr>\n",
       "    <tr>\n",
       "      <th>3</th>\n",
       "      <td>0.370</td>\n",
       "      <td>185.0</td>\n",
       "      <td>0.330</td>\n",
       "      <td>165.0</td>\n",
       "      <td>0.300</td>\n",
       "      <td>150.0</td>\n",
       "      <td>1</td>\n",
       "      <td>500</td>\n",
       "    </tr>\n",
       "    <tr>\n",
       "      <th>4</th>\n",
       "      <td>0.328</td>\n",
       "      <td>164.0</td>\n",
       "      <td>0.356</td>\n",
       "      <td>178.0</td>\n",
       "      <td>0.316</td>\n",
       "      <td>158.0</td>\n",
       "      <td>1</td>\n",
       "      <td>500</td>\n",
       "    </tr>\n",
       "    <tr>\n",
       "      <th>5</th>\n",
       "      <td>0.298</td>\n",
       "      <td>149.0</td>\n",
       "      <td>0.354</td>\n",
       "      <td>177.0</td>\n",
       "      <td>0.348</td>\n",
       "      <td>174.0</td>\n",
       "      <td>1</td>\n",
       "      <td>500</td>\n",
       "    </tr>\n",
       "    <tr>\n",
       "      <th>6</th>\n",
       "      <td>0.244</td>\n",
       "      <td>122.0</td>\n",
       "      <td>0.390</td>\n",
       "      <td>195.0</td>\n",
       "      <td>0.366</td>\n",
       "      <td>183.0</td>\n",
       "      <td>1</td>\n",
       "      <td>500</td>\n",
       "    </tr>\n",
       "    <tr>\n",
       "      <th>7</th>\n",
       "      <td>0.244</td>\n",
       "      <td>122.0</td>\n",
       "      <td>0.354</td>\n",
       "      <td>177.0</td>\n",
       "      <td>0.402</td>\n",
       "      <td>201.0</td>\n",
       "      <td>1</td>\n",
       "      <td>500</td>\n",
       "    </tr>\n",
       "    <tr>\n",
       "      <th>8</th>\n",
       "      <td>0.190</td>\n",
       "      <td>95.0</td>\n",
       "      <td>0.390</td>\n",
       "      <td>195.0</td>\n",
       "      <td>0.420</td>\n",
       "      <td>210.0</td>\n",
       "      <td>1</td>\n",
       "      <td>500</td>\n",
       "    </tr>\n",
       "    <tr>\n",
       "      <th>9</th>\n",
       "      <td>0.182</td>\n",
       "      <td>91.0</td>\n",
       "      <td>0.392</td>\n",
       "      <td>196.0</td>\n",
       "      <td>0.426</td>\n",
       "      <td>213.0</td>\n",
       "      <td>1</td>\n",
       "      <td>500</td>\n",
       "    </tr>\n",
       "    <tr>\n",
       "      <th>10</th>\n",
       "      <td>0.136</td>\n",
       "      <td>68.0</td>\n",
       "      <td>0.452</td>\n",
       "      <td>226.0</td>\n",
       "      <td>0.412</td>\n",
       "      <td>206.0</td>\n",
       "      <td>1</td>\n",
       "      <td>500</td>\n",
       "    </tr>\n",
       "  </tbody>\n",
       "</table>\n",
       "</div>"
      ],
      "text/plain": [
       "     School (Mean)  School (Sum)  White-Collar (Mean)  White-Collar (Sum)  \\\n",
       "age                                                                         \n",
       "1            0.442         221.0                0.266               133.0   \n",
       "2            0.398         199.0                0.284               142.0   \n",
       "3            0.370         185.0                0.330               165.0   \n",
       "4            0.328         164.0                0.356               178.0   \n",
       "5            0.298         149.0                0.354               177.0   \n",
       "6            0.244         122.0                0.390               195.0   \n",
       "7            0.244         122.0                0.354               177.0   \n",
       "8            0.190          95.0                0.390               195.0   \n",
       "9            0.182          91.0                0.392               196.0   \n",
       "10           0.136          68.0                0.452               226.0   \n",
       "\n",
       "     Blue-Collar (Mean)  Blue-Collar (Sum)  Total (Mean)  Total(Sum)  \n",
       "age                                                                   \n",
       "1                 0.292              146.0             1         500  \n",
       "2                 0.318              159.0             1         500  \n",
       "3                 0.300              150.0             1         500  \n",
       "4                 0.316              158.0             1         500  \n",
       "5                 0.348              174.0             1         500  \n",
       "6                 0.366              183.0             1         500  \n",
       "7                 0.402              201.0             1         500  \n",
       "8                 0.420              210.0             1         500  \n",
       "9                 0.426              213.0             1         500  \n",
       "10                0.412              206.0             1         500  "
      ]
     },
     "execution_count": 6,
     "metadata": {},
     "output_type": "execute_result"
    }
   ],
   "source": [
    "table1.columns =['School (Mean)', 'School (Sum)', 'White-Collar (Mean)', 'White-Collar (Sum)', 'Blue-Collar (Mean)', 'Blue-Collar (Sum)', 'Total (Mean)', 'Total(Sum)']\n",
    "\n",
    "table1"
   ]
  },
  {
   "cell_type": "code",
   "execution_count": 7,
   "metadata": {},
   "outputs": [],
   "source": [
    "# Table 2 is the transition matrix, so we need lags\n",
    "df['LagSchD'] = df.groupby('indiv')['SchD'].shift(1)\n",
    "df['LagWhCoD'] = df.groupby('indiv')['WhCoD'].shift(1)\n",
    "df['LagBlCoD'] = df.groupby('indiv')['BlCoD'].shift(1)"
   ]
  },
  {
   "cell_type": "code",
   "execution_count": 8,
   "metadata": {},
   "outputs": [],
   "source": [
    "# \"The first figure in each cell is the percentage\n",
    "# of transitions from origin to destination (the row percentage) and\n",
    "# the second the reverse, that is, the percentage in a particular destination \n",
    "# who started from each origin (column percentage).\"\n",
    "\n",
    "# Row percentage\n",
    "\n",
    "def table2_row(t , t_1):\n",
    "    row = df.loc[(t == 1) & (t_1 == 1),].shape[0] / df.loc[(t_1 == 1) & (df.age !=1),].shape[0] \n",
    "    return row\n",
    "\n",
    "# Column percentage\n",
    "\n",
    "def table2_col(t , t_1):\n",
    "    col = df.loc[(t == 1) & (t_1 == 1),].shape[0] / df.loc[(t == 1) & (df.age !=1),].shape[0] \n",
    "    return col\n",
    "\n"
   ]
  },
  {
   "cell_type": "code",
   "execution_count": 9,
   "metadata": {},
   "outputs": [],
   "source": [
    "# Let's create our table \n",
    "\n",
    "table2 = pd.DataFrame()\n",
    "\n",
    "for t_1 in [df.LagSchD, df.LagWhCoD, df.LagBlCoD]:\n",
    "    row = []\n",
    "    col = []\n",
    "\n",
    "    for t in [df.SchD, df.WhCoD, df.BlCoD]:\n",
    "        row.append(round(table2_row(t, t_1), 2))\n",
    "        col.append(round(table2_col(t, t_1), 2))\n",
    "\n",
    "    table2 = table2.append(pd.DataFrame(row).T)\n",
    "    table2 = table2.append(pd.DataFrame(col).T)\n"
   ]
  },
  {
   "cell_type": "code",
   "execution_count": 10,
   "metadata": {},
   "outputs": [],
   "source": [
    "# Naming columns and rows \n",
    "table2.columns = ['School', 'White Collar',\n",
    "                'Blue Collar']\n",
    "\n",
    "choices = ['School (Row)', 'School (Col)', 'White Collar (Row)', 'White Collar (Col)', 'Blue Collar (Row)', 'Blue Collar (Col)']\n",
    "table2.insert(0, 'Choice (t-1)', choices)"
   ]
  },
  {
   "cell_type": "code",
   "execution_count": 220,
   "metadata": {},
   "outputs": [
    {
     "data": {
      "text/html": [
       "<div>\n",
       "<style scoped>\n",
       "    .dataframe tbody tr th:only-of-type {\n",
       "        vertical-align: middle;\n",
       "    }\n",
       "\n",
       "    .dataframe tbody tr th {\n",
       "        vertical-align: top;\n",
       "    }\n",
       "\n",
       "    .dataframe thead th {\n",
       "        text-align: right;\n",
       "    }\n",
       "</style>\n",
       "<table border=\"1\" class=\"dataframe\">\n",
       "  <thead>\n",
       "    <tr style=\"text-align: right;\">\n",
       "      <th></th>\n",
       "      <th>Choice (t-1)</th>\n",
       "      <th>School</th>\n",
       "      <th>White Collar</th>\n",
       "      <th>Blue Collar</th>\n",
       "    </tr>\n",
       "  </thead>\n",
       "  <tbody>\n",
       "    <tr>\n",
       "      <th>0</th>\n",
       "      <td>School (Row)</td>\n",
       "      <td>0.25</td>\n",
       "      <td>0.37</td>\n",
       "      <td>0.38</td>\n",
       "    </tr>\n",
       "    <tr>\n",
       "      <th>0</th>\n",
       "      <td>School (Col)</td>\n",
       "      <td>0.28</td>\n",
       "      <td>0.31</td>\n",
       "      <td>0.31</td>\n",
       "    </tr>\n",
       "    <tr>\n",
       "      <th>0</th>\n",
       "      <td>White Collar (Row)</td>\n",
       "      <td>0.27</td>\n",
       "      <td>0.41</td>\n",
       "      <td>0.31</td>\n",
       "    </tr>\n",
       "    <tr>\n",
       "      <th>0</th>\n",
       "      <td>White Collar (Col)</td>\n",
       "      <td>0.36</td>\n",
       "      <td>0.39</td>\n",
       "      <td>0.30</td>\n",
       "    </tr>\n",
       "    <tr>\n",
       "      <th>0</th>\n",
       "      <td>Blue Collar (Row)</td>\n",
       "      <td>0.27</td>\n",
       "      <td>0.32</td>\n",
       "      <td>0.41</td>\n",
       "    </tr>\n",
       "    <tr>\n",
       "      <th>0</th>\n",
       "      <td>Blue Collar (Col)</td>\n",
       "      <td>0.36</td>\n",
       "      <td>0.31</td>\n",
       "      <td>0.40</td>\n",
       "    </tr>\n",
       "  </tbody>\n",
       "</table>\n",
       "</div>"
      ],
      "text/plain": [
       "         Choice (t-1)  School  White Collar  Blue Collar\n",
       "0        School (Row)    0.25          0.37         0.38\n",
       "0        School (Col)    0.28          0.31         0.31\n",
       "0  White Collar (Row)    0.27          0.41         0.31\n",
       "0  White Collar (Col)    0.36          0.39         0.30\n",
       "0   Blue Collar (Row)    0.27          0.32         0.41\n",
       "0   Blue Collar (Col)    0.36          0.31         0.40"
      ]
     },
     "execution_count": 220,
     "metadata": {},
     "output_type": "execute_result"
    }
   ],
   "source": [
    "table2"
   ]
  },
  {
   "cell_type": "code",
   "execution_count": 221,
   "metadata": {},
   "outputs": [
    {
     "data": {
      "image/png": "[encoded data removed]",
      "text/plain": [
       "<Figure size 640x480 with 1 Axes>"
      ]
     },
     "metadata": {},
     "output_type": "display_data"
    }
   ],
   "source": [
    "# Figure 1 percentage of people who chose school, wc and bc by age\n",
    "table1.reset_index(inplace=True)\n",
    "\n",
    "plt.plot(table1['age'], table1['School (Mean)'], color='red', marker='o')\n",
    "plt.plot(table1['age'], table1['White-Collar (Mean)'], color='green', marker='o')\n",
    "plt.plot(table1['age'], table1['Blue-Collar (Mean)'], color='blue', marker='o')\n",
    "plt.title('Figure 1')\n",
    "plt.xlabel('Age')\n",
    "plt.ylabel('Share')\n",
    "plt.legend(['School', 'White-Collar', 'Blue-Collar'], frameon = False)\n",
    "plt.show()"
   ]
  },
  {
   "cell_type": "markdown",
   "metadata": {},
   "source": [
    "The share of people in school decreases with age, naturally. At the same time, the share of people in white-collar and blue-collar jobs increases with age."
   ]
  },
  {
   "attachments": {},
   "cell_type": "markdown",
   "metadata": {},
   "source": [
    "### Question 2\n",
    "\n",
    "*Assume individuals make decisions based on a standard human capital model, where each career option gives them a period-specific reward. How would you structure these choice-specific reward functions based on the choice distribution and transition matrix you observe in the data?*"
   ]
  },
  {
   "cell_type": "markdown",
   "metadata": {},
   "source": [
    "Not sure what to comment here, but I guess important points should be that rewards to work are increasing with time in the labor force. And probably returns to schooling decreasing. \n",
    "\n"
   ]
  },
  {
   "attachments": {},
   "cell_type": "markdown",
   "metadata": {},
   "source": [
    "### Question 3\n",
    "\n",
    "Reward functions:\n",
    "\n",
    "$$R_s(a) = \\beta_0 + \\beta_1 I [g(a) \\geq 12] + \\epsilon_s(a)$$\n",
    "$$R_w(a) = \\alpha_1 g(a) + \\alpha_2 x_w(a) + \\alpha_3 x^2_w(a) + \\epsilon_w(a)$$\n",
    "$$R_b(a) = \\eta_1 g(a) + \\eta_2 x_b(a) + \\eta_3 x^2_b(a) + \\epsilon_b(a)$$\n",
    "\n",
    "$g(a)$ is the school attainment at age $a$, $x_w(a)$, $x_b(a)$ are white and blue collar experience, and $\\epsilon_k(a)$ are choice specific shocks distributed as type extreme value. \n",
    "\n",
    "Observed state space: $S(a) = [g(a), x_w(a), x_b(a)]$\n",
    "\n",
    "Make a random guess of the parameters and find the alternative specific value functions for each possible path of choices and age, defined as:\n",
    "\n",
    "$$V_k(S(a), a) = R_k(S(a), a) + \\delta E[V(S(a+1), a+1) | S(a), d_k(a) = 1]\\text{, for } a < A$$\n",
    "$$V_k(S(A), A) = R_k(S(A), A)$$\n",
    "\n",
    "$A$ is the last year of age in the sample and $d_k$ is the alternative-specific decision."
   ]
  },
  {
   "cell_type": "code",
   "execution_count": 222,
   "metadata": {},
   "outputs": [],
   "source": [
    "N = 500\n",
    "\n",
    "# Schooling years and work experience\n",
    "df['g_a'] = df.groupby('indiv')['SchD'].transform('sum')\n",
    "df['x_w'] = df.groupby('indiv')['WhCoD'].transform('sum')\n",
    "df['x_b'] = df.groupby('indiv')['BlCoD'].transform('sum')"
   ]
  },
  {
   "cell_type": "code",
   "execution_count": 223,
   "metadata": {},
   "outputs": [],
   "source": [
    "def Rs(params_s, g_a):\n",
    "    beta0 , beta1 = params_s\n",
    "    return beta0 + beta1*(g_a>11) \n",
    "\n",
    "def Rw(params_w, g_a, x_w):\n",
    "    alpha1, alpha2, alpha3 = params_w\n",
    "    return alpha1*g_a + alpha2*x_w + alpha3*x_w**2 \n",
    "\n",
    "def Rb(params_b, g_a, x_b):\n",
    "    eta1, eta2, eta3 = params_b\n",
    "    return eta1*g_a + eta2*x_b + eta3*x_b**2 \n",
    "\n",
    "\n",
    "# Constants \n",
    "sigma = 0.95\n",
    "γ = 0.57721566490153286061 # mean of extreme value type 1"
   ]
  },
  {
   "cell_type": "code",
   "execution_count": 224,
   "metadata": {},
   "outputs": [],
   "source": [
    "value_functions = []\n",
    "\n",
    "for i in range(10):\n",
    "\n",
    "    def value_f(g_a, x_b, x_w, params_s, params_w, params_b, i = i):\n",
    "\n",
    "        # Schooling \n",
    "        Vs = Rs(params_s, g_a) + sigma*value_functions[i-1](g_a + 1 , x_b, x_w, params_s, params_w, params_b)[0] if i > 0 else Rs(params_s, g_a)\n",
    "        \n",
    "        # White collar\n",
    "        Vw = Rw(params_w, g_a, x_w) + sigma*value_functions[i-1](g_a , x_b, x_w + 1, params_s, params_w, params_b)[0] if i > 0 else Rw(params_w, g_a, x_w)\n",
    "        \n",
    "        # Blue collar\n",
    "        Vb = Rb(params_b, g_a, x_b ) + sigma*value_functions[i-1](g_a , x_b + 1 , x_w, params_s, params_w, params_b)[0] if i > 0 else Rb(params_b, g_a, x_b )\n",
    "        \n",
    "        EMax = γ + np.log(np.sum(np.exp([Vs, Vw, Vb]), axis = 0)) # slide 73 - type 1 extreme value shocks\n",
    "        \n",
    "        return [EMax, Vs, Vw, Vb]  \n",
    "\n",
    "    value_functions.append(value_f)\n"
   ]
  },
  {
   "attachments": {},
   "cell_type": "markdown",
   "metadata": {},
   "source": [
    "### Question 4 \n",
    "\n",
    "*Use the full solution of the dynamic programming problem you just derived (inner loop) to\n",
    "estimate the parameters of the reward functions by maximum likelihood (outer loop) (note: no\n",
    "need for simulation here due to the distributional assumption of the shocks). Don’t estimate\n",
    "the discount factor, just set it to δ = 0.95. Calculate the standard errors using finite difference approximation of the likelihood function at the estimated parameters (hint: you can use the same code provided for the infinite horizon single agent dynamic problem explained in class). Report your results. How do you interpret these coefficients? How does this compare to your interpretation of the descriptives in questions 1 and 2?*"
   ]
  },
  {
   "cell_type": "code",
   "execution_count": 171,
   "metadata": {},
   "outputs": [],
   "source": [
    "# Likelihood Function \n",
    "def LL(params, df = df): \n",
    "    \n",
    "    beta0, beta1, alpha1, alpha2, alpha3, eta1, eta2, eta3 = params\n",
    "\n",
    "    beta= np.array([beta0, beta1])\n",
    "    alpha = np.array([alpha1, alpha2, alpha3])\n",
    "    eta = np.array([eta1,eta2,eta3])\n",
    "\n",
    "    ll = 0\n",
    "\n",
    "    for i in range(10):\n",
    "\n",
    "        g_a = np.array(df.loc[df.age == 10 - i,'g_a']).reshape(1,N)\n",
    "        x_b = np.array(df.loc[df.age == 10 - i,'x_b']).reshape(1,N)\n",
    "        x_w = np.array(df.loc[df.age == 10 - i,'x_w']).reshape(1,N)\n",
    "\n",
    "        # numerator\n",
    "        num = np.array(np.concatenate(value_functions[i](g_a, x_b , x_w , beta, alpha, eta )[1:4])).T \n",
    "        # denominator\n",
    "        den = np.array(np.concatenate(value_functions[i](g_a, x_b , x_w , beta, alpha, eta )[1:4])).T \n",
    "        # probabiility of decision at age a for each individual\n",
    "        p_a = np.exp(np.sum(np.multiply(df.loc[df.age == 10 - i, ('SchD', 'WhCoD', 'BlCoD')], num), axis = 1))  / np.sum(np.exp(den), axis = 1) \n",
    "        \n",
    "        ll += np.sum(np.log(p_a))\n",
    "\n",
    "    ll = -1*ll\n",
    "\n",
    "    return ll\n"
   ]
  },
  {
   "cell_type": "code",
   "execution_count": null,
   "metadata": {},
   "outputs": [],
   "source": [
    "# takes very long to run\n",
    "guess = [0.0, 0.0, 0.1, 0.1, -0.01, 0.1, 0.1, -0.01] \n",
    "MLE = minimize(LL, guess, method = 'BFGS', tol = 1e-6)"
   ]
  },
  {
   "cell_type": "code",
   "execution_count": 136,
   "metadata": {},
   "outputs": [
    {
     "data": {
      "text/html": [
       "<div>\n",
       "<style scoped>\n",
       "    .dataframe tbody tr th:only-of-type {\n",
       "        vertical-align: middle;\n",
       "    }\n",
       "\n",
       "    .dataframe tbody tr th {\n",
       "        vertical-align: top;\n",
       "    }\n",
       "\n",
       "    .dataframe thead th {\n",
       "        text-align: right;\n",
       "    }\n",
       "</style>\n",
       "<table border=\"1\" class=\"dataframe\">\n",
       "  <thead>\n",
       "    <tr style=\"text-align: right;\">\n",
       "      <th></th>\n",
       "      <th>Coefficient</th>\n",
       "      <th>SE</th>\n",
       "    </tr>\n",
       "  </thead>\n",
       "  <tbody>\n",
       "    <tr>\n",
       "      <th>β_0</th>\n",
       "      <td>0.910235</td>\n",
       "      <td>0.027974</td>\n",
       "    </tr>\n",
       "    <tr>\n",
       "      <th>β_1</th>\n",
       "      <td>0.000189</td>\n",
       "      <td>0.016914</td>\n",
       "    </tr>\n",
       "    <tr>\n",
       "      <th>α_1</th>\n",
       "      <td>0.234336</td>\n",
       "      <td>0.016915</td>\n",
       "    </tr>\n",
       "    <tr>\n",
       "      <th>α_2</th>\n",
       "      <td>0.181244</td>\n",
       "      <td>0.008552</td>\n",
       "    </tr>\n",
       "    <tr>\n",
       "      <th>α_3</th>\n",
       "      <td>0.004581</td>\n",
       "      <td>0.001315</td>\n",
       "    </tr>\n",
       "    <tr>\n",
       "      <th>η_1</th>\n",
       "      <td>0.228755</td>\n",
       "      <td>0.018061</td>\n",
       "    </tr>\n",
       "    <tr>\n",
       "      <th>η_2</th>\n",
       "      <td>0.188102</td>\n",
       "      <td>0.008960</td>\n",
       "    </tr>\n",
       "    <tr>\n",
       "      <th>η_3</th>\n",
       "      <td>0.004003</td>\n",
       "      <td>0.001298</td>\n",
       "    </tr>\n",
       "  </tbody>\n",
       "</table>\n",
       "</div>"
      ],
      "text/plain": [
       "     Coefficient        SE\n",
       "β_0     0.910235  0.027974\n",
       "β_1     0.000189  0.016914\n",
       "α_1     0.234336  0.016915\n",
       "α_2     0.181244  0.008552\n",
       "α_3     0.004581  0.001315\n",
       "η_1     0.228755  0.018061\n",
       "η_2     0.188102  0.008960\n",
       "η_3     0.004003  0.001298"
      ]
     },
     "execution_count": 136,
     "metadata": {},
     "output_type": "execute_result"
    }
   ],
   "source": [
    "# Obtaining standard errors through inverse hessian\n",
    "\n",
    "# Extract the Hessian matrix\n",
    "inv_hess = MLE.hess_inv\n",
    "\n",
    "# Extract the diagonal elements of the covariance matrix\n",
    "diag_cov = np.diag(inv_hess)\n",
    "\n",
    "# Compute the standard errors\n",
    "std_errors = np.sqrt(diag_cov)\n",
    "\n",
    "# Create a table with the coefficients and standard errors\n",
    "coefficients = MLE.x\n",
    "table = np.stack((coefficients, std_errors), axis=-1)\n",
    "parameters = [\"β_0\", \"β_1\", \"α_1\", \"α_2\", \"α_3\", \"η_1\", \"η_2\", \"η_3\"]\n",
    "results = pd.DataFrame(table, parameters)\n",
    "results.columns = ['Coefficient', 'SE']\n",
    "\n",
    "results"
   ]
  },
  {
   "cell_type": "markdown",
   "metadata": {},
   "source": [
    "As expected, both occupations have positive returns to schooling. However, the difference is not a lot between the returns to schooling for white collar vs blue collar workers. The linear component of the returns to experience is also very similiar between the two occupations. The cuadratic component is close to zero, meaning the returns to experience are almost linear in time. The returns to after high school education seems to be close to nothing, so it makes sense that the curve in Figure 1 is downwards sloping."
   ]
  },
  {
   "attachments": {},
   "cell_type": "markdown",
   "metadata": {},
   "source": [
    "### Question 5 \n",
    "\n",
    "*Estimate the model now with unobserved heterogeneity. Assume there are 2 types of individuals in the sample, who differ in the effect of schooling on rewards from working. One type\n",
    "has a higher return from schooling in a white collar job and a lower return in a blue collar one,\n",
    "as she specialized in managerial studies, whereas the opposite is true for the other type, who\n",
    "specialized in a more blue collar oriented education. Don’t estimate type proportions but just\n",
    "set them equal to 0.5. Report estimated coefficients and standard errors. How do your results\n",
    "compare with the previous question? How much does unobserved heterogeneity matter?*"
   ]
  },
  {
   "cell_type": "code",
   "execution_count": null,
   "metadata": {},
   "outputs": [],
   "source": [
    "# One type has a higher return from schooling in a white collar job - different alpha1\n",
    "# The other has a higher return from schooling in a blue collar job - different eta1\n",
    "# Other parameters are the same for both types "
   ]
  },
  {
   "cell_type": "code",
   "execution_count": 184,
   "metadata": {},
   "outputs": [],
   "source": [
    "def LL_UH(params, df = df): \n",
    "    \n",
    "    beta0, beta1, alpha1_t1, alpha1_t2, alpha2, alpha3, eta1_t1, eta1_t2, eta2, eta3 = params\n",
    "\n",
    "    beta= np.array([beta0, beta1])\n",
    "    alpha_v1 = np.array([alpha1_t1, alpha2, alpha3])\n",
    "    eta_v1 = np.array([eta1_t1,eta2,eta3])\n",
    "    alpha_v2 = np.array([alpha1_t2, alpha2, alpha3])\n",
    "    eta_v2 = np.array([eta1_t2,eta2,eta3])\n",
    "\n",
    "    ll_t1 = np.ones(500)\n",
    "    ll_t2 = np.ones(500)\n",
    "\n",
    "    for i in range(10):\n",
    "\n",
    "        ga = np.array(df.loc[df.age == 10 - i,'g_a']).reshape(1,N)\n",
    "        xb = np.array(df.loc[df.age == 10 - i,'x_b']).reshape(1,N)\n",
    "        xw = np.array(df.loc[df.age == 10 - i,'x_w']).reshape(1,N)\n",
    "\n",
    "        # Type 1\n",
    "        # numerator and denominator\n",
    "        num_t1 = np.array(np.concatenate(value_functions[i](ga, xb , xw , beta, alpha_v1, eta_v1 )[1:4])).T \n",
    "        den_t1 = np.array(np.concatenate(value_functions[i](ga, xb , xw , beta, alpha_v1, eta_v1 )[1:4])).T \n",
    "        # Probability of decision\n",
    "        p_a_v1 = np.exp(np.sum(np.multiply(df.loc[df.age == 10 - i, ('SchD', 'WhCoD', 'BlCoD')], num_t1), axis = 1))  / np.sum(np.exp(den_t1), axis = 1) \n",
    "\n",
    "        # Type 2\n",
    "        # numerator and denominator\n",
    "        num_t2 = np.array(np.concatenate(value_functions[i](ga, xb , xw , beta, alpha_v2, eta_v2 )[1:4])).T \n",
    "        den_t2 = np.array(np.concatenate(value_functions[i](ga, xb , xw , beta, alpha_v2, eta_v2 )[1:4])).T \n",
    "        # Probabiility of decision\n",
    "        p_a_v2 = np.exp(np.sum(np.multiply(df.loc[df.age == 10 - i, ('SchD', 'WhCoD', 'BlCoD')], num_t2), axis = 1))  / np.sum(np.exp(den_t2), axis = 1) \n",
    "\n",
    "        # Log-likelihood\n",
    "        ll_t1 = np.multiply(ll_t1.reshape(500,1), np.array(p_a_v1).reshape(500,1)) \n",
    "        ll_t2 = np.multiply(ll_t2.reshape(500,1), np.array(p_a_v2).reshape(500,1))\n",
    "\n",
    "    ll = -1 * np.sum(np.log(0.5 * ll_t1 + 0.5 * ll_t2)) # set type proportions equal to 0.5\n",
    "\n",
    "    return ll"
   ]
  },
  {
   "cell_type": "code",
   "execution_count": null,
   "metadata": {},
   "outputs": [],
   "source": [
    "guess = [1.0, -1.0, 0.1, 0.1, 0.1, -0.1, 0.1, 0.1, 0.1, -0.1] \n",
    "MLE_UH = minimize(LL_UH, guess, method = 'BFGS', tol = 1e-3)\n",
    "\n",
    "# It ran for one hour, no convergence \n",
    "\n"
   ]
  },
  {
   "attachments": {},
   "cell_type": "markdown",
   "metadata": {},
   "source": [
    "### Question 6 \n",
    "*Produce 3 graphs similar to the one you did in question 1, one for each career decision. In\n",
    "these graphs plot a line for the actual data, and two the model’s prediction both with and\n",
    "without unobserved heterogeneity. Use the predicted probabilities to construct the lines for\n",
    "the two models. Which model seems to fit the data better?*"
   ]
  },
  {
   "cell_type": "code",
   "execution_count": 255,
   "metadata": {},
   "outputs": [],
   "source": [
    "def prob(params, df=df):\n",
    "    beta0, beta1, alpha1, alpha2, alpha3, eta1, eta2, eta3 = params\n",
    "    Beta = np.array([beta0, beta1])\n",
    "    alpha = np.array([alpha1, alpha2, alpha3])\n",
    "    Eta = np.array([eta1, eta2, eta3])\n",
    "\n",
    "    pred_prob = []\n",
    "    for i in range(10):\n",
    "        ga = np.array(df[df['age'] == 10 - i]['g_a'])\n",
    "        xb = np.array(df[df['age'] == 10 - i]['x_b'])\n",
    "        xw = np.array(df[df['age'] == 10 - i]['x_w'])\n",
    "\n",
    "        utility = value_functions[i](ga, xb, xw, Beta, alpha, Eta)[1:]\n",
    "        prob = np.exp(utility) / np.sum(np.exp(utility), axis=0)\n",
    "        mean_prob = np.mean(prob, axis=1)\n",
    "        pred_prob.append(mean_prob)\n",
    "\n",
    "    return pred_prob"
   ]
  },
  {
   "cell_type": "code",
   "execution_count": 256,
   "metadata": {},
   "outputs": [
    {
     "data": {
      "text/html": [
       "<div>\n",
       "<style scoped>\n",
       "    .dataframe tbody tr th:only-of-type {\n",
       "        vertical-align: middle;\n",
       "    }\n",
       "\n",
       "    .dataframe tbody tr th {\n",
       "        vertical-align: top;\n",
       "    }\n",
       "\n",
       "    .dataframe thead th {\n",
       "        text-align: right;\n",
       "    }\n",
       "</style>\n",
       "<table border=\"1\" class=\"dataframe\">\n",
       "  <thead>\n",
       "    <tr style=\"text-align: right;\">\n",
       "      <th></th>\n",
       "      <th>School</th>\n",
       "      <th>White-Collar</th>\n",
       "      <th>Blue-Collar</th>\n",
       "    </tr>\n",
       "  </thead>\n",
       "  <tbody>\n",
       "    <tr>\n",
       "      <th>0</th>\n",
       "      <td>0.224657</td>\n",
       "      <td>0.386765</td>\n",
       "      <td>0.388578</td>\n",
       "    </tr>\n",
       "    <tr>\n",
       "      <th>1</th>\n",
       "      <td>0.237625</td>\n",
       "      <td>0.380145</td>\n",
       "      <td>0.382230</td>\n",
       "    </tr>\n",
       "    <tr>\n",
       "      <th>2</th>\n",
       "      <td>0.249497</td>\n",
       "      <td>0.374132</td>\n",
       "      <td>0.376370</td>\n",
       "    </tr>\n",
       "    <tr>\n",
       "      <th>3</th>\n",
       "      <td>0.260003</td>\n",
       "      <td>0.368870</td>\n",
       "      <td>0.371127</td>\n",
       "    </tr>\n",
       "    <tr>\n",
       "      <th>4</th>\n",
       "      <td>0.269344</td>\n",
       "      <td>0.364324</td>\n",
       "      <td>0.366332</td>\n",
       "    </tr>\n",
       "    <tr>\n",
       "      <th>5</th>\n",
       "      <td>0.279313</td>\n",
       "      <td>0.359932</td>\n",
       "      <td>0.360755</td>\n",
       "    </tr>\n",
       "    <tr>\n",
       "      <th>6</th>\n",
       "      <td>0.293019</td>\n",
       "      <td>0.353360</td>\n",
       "      <td>0.353621</td>\n",
       "    </tr>\n",
       "    <tr>\n",
       "      <th>7</th>\n",
       "      <td>0.311757</td>\n",
       "      <td>0.343430</td>\n",
       "      <td>0.344814</td>\n",
       "    </tr>\n",
       "    <tr>\n",
       "      <th>8</th>\n",
       "      <td>0.333075</td>\n",
       "      <td>0.331654</td>\n",
       "      <td>0.335271</td>\n",
       "    </tr>\n",
       "    <tr>\n",
       "      <th>9</th>\n",
       "      <td>0.353664</td>\n",
       "      <td>0.320020</td>\n",
       "      <td>0.326316</td>\n",
       "    </tr>\n",
       "  </tbody>\n",
       "</table>\n",
       "</div>"
      ],
      "text/plain": [
       "     School  White-Collar  Blue-Collar\n",
       "0  0.224657      0.386765     0.388578\n",
       "1  0.237625      0.380145     0.382230\n",
       "2  0.249497      0.374132     0.376370\n",
       "3  0.260003      0.368870     0.371127\n",
       "4  0.269344      0.364324     0.366332\n",
       "5  0.279313      0.359932     0.360755\n",
       "6  0.293019      0.353360     0.353621\n",
       "7  0.311757      0.343430     0.344814\n",
       "8  0.333075      0.331654     0.335271\n",
       "9  0.353664      0.320020     0.326316"
      ]
     },
     "execution_count": 256,
     "metadata": {},
     "output_type": "execute_result"
    }
   ],
   "source": [
    "list_pred = list(map(lambda x: [x], prob(MLE.x)))\n",
    "pred_prob = pd.DataFrame(np.concatenate(list_pred))\n",
    "pred_prob.columns = ['School', 'White-Collar', 'Blue-Collar']\n",
    "pred_prob"
   ]
  },
  {
   "attachments": {},
   "cell_type": "markdown",
   "metadata": {},
   "source": [
    "Because the minimization didn't converge for the unobserved heterogeneity case, we're only presenting results for the case without unobserved heterogeneity."
   ]
  },
  {
   "cell_type": "code",
   "execution_count": 257,
   "metadata": {},
   "outputs": [
    {
     "ename": "NameError",
     "evalue": "name 'pred2' is not defined",
     "output_type": "error",
     "traceback": [
      "\u001b[0;31m---------------------------------------------------------------------------\u001b[0m",
      "\u001b[0;31mNameError\u001b[0m                                 Traceback (most recent call last)",
      "Cell \u001b[0;32mIn [257], line 5\u001b[0m\n\u001b[1;32m      3\u001b[0m plt\u001b[39m.\u001b[39mplot(table1[\u001b[39m'\u001b[39m\u001b[39mage\u001b[39m\u001b[39m'\u001b[39m], table1[\u001b[39m'\u001b[39m\u001b[39mSchool (Mean)\u001b[39m\u001b[39m'\u001b[39m], color\u001b[39m=\u001b[39m\u001b[39m'\u001b[39m\u001b[39mred\u001b[39m\u001b[39m'\u001b[39m, marker\u001b[39m=\u001b[39m\u001b[39m'\u001b[39m\u001b[39mo\u001b[39m\u001b[39m'\u001b[39m)\n\u001b[1;32m      4\u001b[0m plt\u001b[39m.\u001b[39mplot(table1[\u001b[39m'\u001b[39m\u001b[39mage\u001b[39m\u001b[39m'\u001b[39m], pred_prob[\u001b[39m'\u001b[39m\u001b[39mSchool\u001b[39m\u001b[39m'\u001b[39m], color\u001b[39m=\u001b[39m\u001b[39m'\u001b[39m\u001b[39mgreen\u001b[39m\u001b[39m'\u001b[39m, marker\u001b[39m=\u001b[39m\u001b[39m'\u001b[39m\u001b[39mo\u001b[39m\u001b[39m'\u001b[39m)\n\u001b[0;32m----> 5\u001b[0m plt\u001b[39m.\u001b[39mplot(table1[\u001b[39m'\u001b[39m\u001b[39mage\u001b[39m\u001b[39m'\u001b[39m], pred2[\u001b[39m'\u001b[39m\u001b[39mSchool\u001b[39m\u001b[39m'\u001b[39m], color\u001b[39m=\u001b[39m\u001b[39m'\u001b[39m\u001b[39mblue\u001b[39m\u001b[39m'\u001b[39m, marker\u001b[39m=\u001b[39m\u001b[39m'\u001b[39m\u001b[39mo\u001b[39m\u001b[39m'\u001b[39m)\n\u001b[1;32m      6\u001b[0m plt\u001b[39m.\u001b[39mtitle(\u001b[39m'\u001b[39m\u001b[39mSchooling Decision\u001b[39m\u001b[39m'\u001b[39m)\n\u001b[1;32m      7\u001b[0m plt\u001b[39m.\u001b[39mxlabel(\u001b[39m'\u001b[39m\u001b[39mAge\u001b[39m\u001b[39m'\u001b[39m)\n",
      "\u001b[0;31mNameError\u001b[0m: name 'pred2' is not defined"
     ]
    },
    {
     "data": {
      "image/png": "[encoded data removed]",
      "text/plain": [
       "<Figure size 640x480 with 1 Axes>"
      ]
     },
     "metadata": {},
     "output_type": "display_data"
    }
   ],
   "source": [
    "# Graph Schooling - Results look wrong, but we tried :(\n",
    "\n",
    "plt.plot(table1['age'], table1['School (Mean)'], color='red', marker='o')\n",
    "plt.plot(table1['age'], pred_prob['School'], color='green', marker='o')\n",
    "plt.plot(table1['age'], pred2['School'], color='blue', marker='o')\n",
    "plt.title('Schooling Decision')\n",
    "plt.xlabel('Age')\n",
    "plt.ylabel('Share')\n",
    "plt.legend(['Data', 'Without UH', 'With UH'], frameon = False)\n",
    "plt.show()"
   ]
  },
  {
   "cell_type": "code",
   "execution_count": 258,
   "metadata": {},
   "outputs": [
    {
     "ename": "NameError",
     "evalue": "name 'pred2' is not defined",
     "output_type": "error",
     "traceback": [
      "\u001b[0;31m---------------------------------------------------------------------------\u001b[0m",
      "\u001b[0;31mNameError\u001b[0m                                 Traceback (most recent call last)",
      "Cell \u001b[0;32mIn [258], line 5\u001b[0m\n\u001b[1;32m      3\u001b[0m plt\u001b[39m.\u001b[39mplot(table1[\u001b[39m'\u001b[39m\u001b[39mage\u001b[39m\u001b[39m'\u001b[39m], table1[\u001b[39m'\u001b[39m\u001b[39mWhite-Collar (Mean)\u001b[39m\u001b[39m'\u001b[39m], color\u001b[39m=\u001b[39m\u001b[39m'\u001b[39m\u001b[39mred\u001b[39m\u001b[39m'\u001b[39m, marker\u001b[39m=\u001b[39m\u001b[39m'\u001b[39m\u001b[39mo\u001b[39m\u001b[39m'\u001b[39m)\n\u001b[1;32m      4\u001b[0m plt\u001b[39m.\u001b[39mplot(table1[\u001b[39m'\u001b[39m\u001b[39mage\u001b[39m\u001b[39m'\u001b[39m], pred_prob[\u001b[39m'\u001b[39m\u001b[39mWhite-Collar\u001b[39m\u001b[39m'\u001b[39m], color\u001b[39m=\u001b[39m\u001b[39m'\u001b[39m\u001b[39mgreen\u001b[39m\u001b[39m'\u001b[39m, marker\u001b[39m=\u001b[39m\u001b[39m'\u001b[39m\u001b[39mo\u001b[39m\u001b[39m'\u001b[39m)\n\u001b[0;32m----> 5\u001b[0m plt\u001b[39m.\u001b[39mplot(table1[\u001b[39m'\u001b[39m\u001b[39mage\u001b[39m\u001b[39m'\u001b[39m], pred2[\u001b[39m'\u001b[39m\u001b[39mWhite-Collar\u001b[39m\u001b[39m'\u001b[39m], color\u001b[39m=\u001b[39m\u001b[39m'\u001b[39m\u001b[39mblue\u001b[39m\u001b[39m'\u001b[39m, marker\u001b[39m=\u001b[39m\u001b[39m'\u001b[39m\u001b[39mo\u001b[39m\u001b[39m'\u001b[39m)\n\u001b[1;32m      6\u001b[0m plt\u001b[39m.\u001b[39mtitle(\u001b[39m'\u001b[39m\u001b[39mWhite-Collar Decision\u001b[39m\u001b[39m'\u001b[39m)\n\u001b[1;32m      7\u001b[0m plt\u001b[39m.\u001b[39mxlabel(\u001b[39m'\u001b[39m\u001b[39mAge\u001b[39m\u001b[39m'\u001b[39m)\n",
      "\u001b[0;31mNameError\u001b[0m: name 'pred2' is not defined"
     ]
    },
    {
     "data": {
      "image/png": "[encoded data removed]",
      "text/plain": [
       "<Figure size 640x480 with 1 Axes>"
      ]
     },
     "metadata": {},
     "output_type": "display_data"
    }
   ],
   "source": [
    "# Graph White-Collar\n",
    "\n",
    "plt.plot(table1['age'], table1['White-Collar (Mean)'], color='red', marker='o')\n",
    "plt.plot(table1['age'], pred_prob['White-Collar'], color='green', marker='o')\n",
    "plt.plot(table1['age'], pred2['White-Collar'], color='blue', marker='o')\n",
    "plt.title('White-Collar Decision')\n",
    "plt.xlabel('Age')\n",
    "plt.ylabel('Share')\n",
    "plt.legend(['Data', 'Without UH', 'With UH'], frameon = False)\n",
    "plt.show()"
   ]
  },
  {
   "cell_type": "code",
   "execution_count": 259,
   "metadata": {},
   "outputs": [
    {
     "ename": "NameError",
     "evalue": "name 'pred2' is not defined",
     "output_type": "error",
     "traceback": [
      "\u001b[0;31m---------------------------------------------------------------------------\u001b[0m",
      "\u001b[0;31mNameError\u001b[0m                                 Traceback (most recent call last)",
      "Cell \u001b[0;32mIn [259], line 5\u001b[0m\n\u001b[1;32m      3\u001b[0m plt\u001b[39m.\u001b[39mplot(table1[\u001b[39m'\u001b[39m\u001b[39mage\u001b[39m\u001b[39m'\u001b[39m], table1[\u001b[39m'\u001b[39m\u001b[39mBlue-Collar (Mean)\u001b[39m\u001b[39m'\u001b[39m], color\u001b[39m=\u001b[39m\u001b[39m'\u001b[39m\u001b[39mred\u001b[39m\u001b[39m'\u001b[39m, marker\u001b[39m=\u001b[39m\u001b[39m'\u001b[39m\u001b[39mo\u001b[39m\u001b[39m'\u001b[39m)\n\u001b[1;32m      4\u001b[0m plt\u001b[39m.\u001b[39mplot(table1[\u001b[39m'\u001b[39m\u001b[39mage\u001b[39m\u001b[39m'\u001b[39m], pred_prob[\u001b[39m'\u001b[39m\u001b[39mBlue-Collar\u001b[39m\u001b[39m'\u001b[39m], color\u001b[39m=\u001b[39m\u001b[39m'\u001b[39m\u001b[39mgreen\u001b[39m\u001b[39m'\u001b[39m, marker\u001b[39m=\u001b[39m\u001b[39m'\u001b[39m\u001b[39mo\u001b[39m\u001b[39m'\u001b[39m)\n\u001b[0;32m----> 5\u001b[0m plt\u001b[39m.\u001b[39mplot(table1[\u001b[39m'\u001b[39m\u001b[39mage\u001b[39m\u001b[39m'\u001b[39m], pred2[\u001b[39m'\u001b[39m\u001b[39mBlue-Collar\u001b[39m\u001b[39m'\u001b[39m], color\u001b[39m=\u001b[39m\u001b[39m'\u001b[39m\u001b[39mblue\u001b[39m\u001b[39m'\u001b[39m, marker\u001b[39m=\u001b[39m\u001b[39m'\u001b[39m\u001b[39mo\u001b[39m\u001b[39m'\u001b[39m)\n\u001b[1;32m      6\u001b[0m plt\u001b[39m.\u001b[39mtitle(\u001b[39m'\u001b[39m\u001b[39mBlue-Collar Decision\u001b[39m\u001b[39m'\u001b[39m)\n\u001b[1;32m      7\u001b[0m plt\u001b[39m.\u001b[39mxlabel(\u001b[39m'\u001b[39m\u001b[39mAge\u001b[39m\u001b[39m'\u001b[39m)\n",
      "\u001b[0;31mNameError\u001b[0m: name 'pred2' is not defined"
     ]
    },
    {
     "data": {
      "image/png": "[encoded data removed]",
      "text/plain": [
       "<Figure size 640x480 with 1 Axes>"
      ]
     },
     "metadata": {},
     "output_type": "display_data"
    }
   ],
   "source": [
    "# Graph Blue-Collar\n",
    "\n",
    "plt.plot(table1['age'], table1['Blue-Collar (Mean)'], color='red', marker='o')\n",
    "plt.plot(table1['age'], pred_prob['Blue-Collar'], color='green', marker='o')\n",
    "plt.plot(table1['age'], pred2['Blue-Collar'], color='blue', marker='o')\n",
    "plt.title('Blue-Collar Decision')\n",
    "plt.xlabel('Age')\n",
    "plt.ylabel('Share')\n",
    "plt.legend(['Data', 'Without UH', 'With UH'], frameon = False)\n",
    "plt.show()"
   ]
  },
  {
   "attachments": {},
   "cell_type": "markdown",
   "metadata": {},
   "source": [
    "Clearly, these results don't seem very correct, as the actual data and prediction are almost opposite. We really tried to figure out what was wrong with our code, but we were not able to. "
   ]
  }
 ],
 "metadata": {
  "kernelspec": {
   "display_name": "Python 3",
   "language": "python",
   "name": "python3"
  },
  "language_info": {
   "codemirror_mode": {
    "name": "ipython",
    "version": 3
   },
   "file_extension": ".py",
   "mimetype": "text/x-python",
   "name": "python",
   "nbconvert_exporter": "python",
   "pygments_lexer": "ipython3",
   "version": "3.10.5 | packaged by conda-forge | (main, Jun 14 2022, 07:07:06) [Clang 13.0.1 ]"
  },
  "vscode": {
   "interpreter": {
    "hash": "12378330c2209a9df4cbf7c0520aaa5a4039838045573665c3c52dcf8dce40e4"
   }
  }
 },
 "nbformat": 4,
 "nbformat_minor": 2
}
