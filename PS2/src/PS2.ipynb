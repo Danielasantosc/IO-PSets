{
 "cells": [
  {
   "cell_type": "markdown",
   "metadata": {},
   "source": [
    "## Problem Set 2\n",
    "Daniela Santos Cárdenas, Ana Brás Monteiro"
   ]
  },
  {
   "cell_type": "code",
   "execution_count": 31,
   "metadata": {},
   "outputs": [],
   "source": [
    "# Importing the necessary libraries\n",
    "import pandas as pd\n",
    "import statsmodels.formula.api as smf\n",
    "import numpy as np\n",
    "from linearmodels.iv import IV2SLS"
   ]
  },
  {
   "cell_type": "code",
   "execution_count": 2,
   "metadata": {},
   "outputs": [],
   "source": [
    "# Import data \n",
    "\n",
    "colnames=['mkt_id', 'prod_id', 'prod_share', 'prod_att1', 'prod_att2', 'prod_att3', 'price', 'shifter1', 'shifter2', 'shifter3', 'group'] \n",
    "\n",
    "df = pd.read_csv('../data/Data.csv', names=colnames, header=None)"
   ]
  },
  {
   "cell_type": "code",
   "execution_count": 11,
   "metadata": {},
   "outputs": [
    {
     "data": {
      "text/html": [
       "<div>\n",
       "<style scoped>\n",
       "    .dataframe tbody tr th:only-of-type {\n",
       "        vertical-align: middle;\n",
       "    }\n",
       "\n",
       "    .dataframe tbody tr th {\n",
       "        vertical-align: top;\n",
       "    }\n",
       "\n",
       "    .dataframe thead th {\n",
       "        text-align: right;\n",
       "    }\n",
       "</style>\n",
       "<table border=\"1\" class=\"dataframe\">\n",
       "  <thead>\n",
       "    <tr style=\"text-align: right;\">\n",
       "      <th></th>\n",
       "      <th>mkt_id</th>\n",
       "      <th>prod_id</th>\n",
       "      <th>prod_share</th>\n",
       "      <th>prod_att1</th>\n",
       "      <th>prod_att2</th>\n",
       "      <th>prod_att3</th>\n",
       "      <th>price</th>\n",
       "      <th>shifter1</th>\n",
       "      <th>shifter2</th>\n",
       "      <th>shifter3</th>\n",
       "      <th>group</th>\n",
       "    </tr>\n",
       "  </thead>\n",
       "  <tbody>\n",
       "    <tr>\n",
       "      <th>count</th>\n",
       "      <td>970.000000</td>\n",
       "      <td>970.000000</td>\n",
       "      <td>9.700000e+02</td>\n",
       "      <td>970.000000</td>\n",
       "      <td>970.000000</td>\n",
       "      <td>970.000000</td>\n",
       "      <td>970.000000</td>\n",
       "      <td>970.000000</td>\n",
       "      <td>970.000000</td>\n",
       "      <td>970.000000</td>\n",
       "      <td>970.000000</td>\n",
       "    </tr>\n",
       "    <tr>\n",
       "      <th>mean</th>\n",
       "      <td>26.167010</td>\n",
       "      <td>10.430928</td>\n",
       "      <td>1.912517e-02</td>\n",
       "      <td>-0.030330</td>\n",
       "      <td>-0.004903</td>\n",
       "      <td>-0.057823</td>\n",
       "      <td>5.577779</td>\n",
       "      <td>-0.029543</td>\n",
       "      <td>-0.012141</td>\n",
       "      <td>-0.044407</td>\n",
       "      <td>2.010309</td>\n",
       "    </tr>\n",
       "    <tr>\n",
       "      <th>std</th>\n",
       "      <td>14.485213</td>\n",
       "      <td>5.990177</td>\n",
       "      <td>6.025534e-02</td>\n",
       "      <td>0.995995</td>\n",
       "      <td>0.999779</td>\n",
       "      <td>1.016903</td>\n",
       "      <td>1.371331</td>\n",
       "      <td>1.007472</td>\n",
       "      <td>0.989332</td>\n",
       "      <td>0.977154</td>\n",
       "      <td>0.818956</td>\n",
       "    </tr>\n",
       "    <tr>\n",
       "      <th>min</th>\n",
       "      <td>1.000000</td>\n",
       "      <td>1.000000</td>\n",
       "      <td>3.019000e-07</td>\n",
       "      <td>-2.985200</td>\n",
       "      <td>-3.104500</td>\n",
       "      <td>-4.167300</td>\n",
       "      <td>1.328500</td>\n",
       "      <td>-2.850200</td>\n",
       "      <td>-4.096800</td>\n",
       "      <td>-3.251200</td>\n",
       "      <td>1.000000</td>\n",
       "    </tr>\n",
       "    <tr>\n",
       "      <th>25%</th>\n",
       "      <td>14.000000</td>\n",
       "      <td>5.000000</td>\n",
       "      <td>9.976725e-05</td>\n",
       "      <td>-0.706257</td>\n",
       "      <td>-0.682220</td>\n",
       "      <td>-0.706403</td>\n",
       "      <td>4.708150</td>\n",
       "      <td>-0.710245</td>\n",
       "      <td>-0.704515</td>\n",
       "      <td>-0.700940</td>\n",
       "      <td>1.000000</td>\n",
       "    </tr>\n",
       "    <tr>\n",
       "      <th>50%</th>\n",
       "      <td>26.500000</td>\n",
       "      <td>10.000000</td>\n",
       "      <td>7.848100e-04</td>\n",
       "      <td>-0.064417</td>\n",
       "      <td>0.042951</td>\n",
       "      <td>-0.068317</td>\n",
       "      <td>5.527950</td>\n",
       "      <td>-0.055330</td>\n",
       "      <td>0.017694</td>\n",
       "      <td>-0.001928</td>\n",
       "      <td>2.000000</td>\n",
       "    </tr>\n",
       "    <tr>\n",
       "      <th>75%</th>\n",
       "      <td>39.000000</td>\n",
       "      <td>15.000000</td>\n",
       "      <td>5.950150e-03</td>\n",
       "      <td>0.670627</td>\n",
       "      <td>0.681762</td>\n",
       "      <td>0.620657</td>\n",
       "      <td>6.507125</td>\n",
       "      <td>0.688550</td>\n",
       "      <td>0.695118</td>\n",
       "      <td>0.590225</td>\n",
       "      <td>3.000000</td>\n",
       "    </tr>\n",
       "    <tr>\n",
       "      <th>max</th>\n",
       "      <td>50.000000</td>\n",
       "      <td>25.000000</td>\n",
       "      <td>5.582900e-01</td>\n",
       "      <td>2.811000</td>\n",
       "      <td>3.690400</td>\n",
       "      <td>3.231500</td>\n",
       "      <td>10.000000</td>\n",
       "      <td>3.275500</td>\n",
       "      <td>3.681100</td>\n",
       "      <td>3.272600</td>\n",
       "      <td>3.000000</td>\n",
       "    </tr>\n",
       "  </tbody>\n",
       "</table>\n",
       "</div>"
      ],
      "text/plain": [
       "           mkt_id     prod_id    prod_share   prod_att1   prod_att2  \\\n",
       "count  970.000000  970.000000  9.700000e+02  970.000000  970.000000   \n",
       "mean    26.167010   10.430928  1.912517e-02   -0.030330   -0.004903   \n",
       "std     14.485213    5.990177  6.025534e-02    0.995995    0.999779   \n",
       "min      1.000000    1.000000  3.019000e-07   -2.985200   -3.104500   \n",
       "25%     14.000000    5.000000  9.976725e-05   -0.706257   -0.682220   \n",
       "50%     26.500000   10.000000  7.848100e-04   -0.064417    0.042951   \n",
       "75%     39.000000   15.000000  5.950150e-03    0.670627    0.681762   \n",
       "max     50.000000   25.000000  5.582900e-01    2.811000    3.690400   \n",
       "\n",
       "        prod_att3       price    shifter1    shifter2    shifter3       group  \n",
       "count  970.000000  970.000000  970.000000  970.000000  970.000000  970.000000  \n",
       "mean    -0.057823    5.577779   -0.029543   -0.012141   -0.044407    2.010309  \n",
       "std      1.016903    1.371331    1.007472    0.989332    0.977154    0.818956  \n",
       "min     -4.167300    1.328500   -2.850200   -4.096800   -3.251200    1.000000  \n",
       "25%     -0.706403    4.708150   -0.710245   -0.704515   -0.700940    1.000000  \n",
       "50%     -0.068317    5.527950   -0.055330    0.017694   -0.001928    2.000000  \n",
       "75%      0.620657    6.507125    0.688550    0.695118    0.590225    3.000000  \n",
       "max      3.231500   10.000000    3.275500    3.681100    3.272600    3.000000  "
      ]
     },
     "execution_count": 11,
     "metadata": {},
     "output_type": "execute_result"
    }
   ],
   "source": [
    "df.describe()"
   ]
  },
  {
   "cell_type": "markdown",
   "metadata": {},
   "source": [
    "## 2.1 Logit Demand"
   ]
  },
  {
   "cell_type": "markdown",
   "metadata": {},
   "source": [
    "**Question a)**\n",
    "\n",
    "Estimate an aggregate Logit model using OLS based on the following utility function that individual i derives from buying product j in market n: \n",
    "\n",
    "$$u_{ijn} = \\alpha p_{jn} + x_{jn} \\beta + \\xi_{jn} + \\varepsilon_{ijn}$$"
   ]
  },
  {
   "cell_type": "markdown",
   "metadata": {},
   "source": [
    "Dependent variable: $\\delta_{jn} = log(\\frac{s_{jn}}{s_{0n}})$"
   ]
  },
  {
   "cell_type": "code",
   "execution_count": 21,
   "metadata": {},
   "outputs": [],
   "source": [
    "# Creating market shares \n",
    "df['mkt_share'] = df.groupby('mkt_id')['prod_share'].transform('sum')\n",
    "\n",
    "# Share of the outside good \n",
    "df['mkt_share_out'] = 1 - df['mkt_share']\n",
    "\n",
    "# Calculate log of ratio \n",
    "df['utility'] = np.log(df['prod_share']/df['mkt_share_out'])\n"
   ]
  },
  {
   "cell_type": "code",
   "execution_count": 36,
   "metadata": {},
   "outputs": [
    {
     "data": {
      "text/html": [
       "<table class=\"simpletable\">\n",
       "<caption>OLS Regression Results</caption>\n",
       "<tr>\n",
       "  <th>Dep. Variable:</th>         <td>utility</td>     <th>  R-squared:         </th> <td>   0.843</td>\n",
       "</tr>\n",
       "<tr>\n",
       "  <th>Model:</th>                   <td>OLS</td>       <th>  Adj. R-squared:    </th> <td>   0.842</td>\n",
       "</tr>\n",
       "<tr>\n",
       "  <th>Method:</th>             <td>Least Squares</td>  <th>  F-statistic:       </th> <td>   1294.</td>\n",
       "</tr>\n",
       "<tr>\n",
       "  <th>Date:</th>             <td>Thu, 24 Nov 2022</td> <th>  Prob (F-statistic):</th>  <td>  0.00</td> \n",
       "</tr>\n",
       "<tr>\n",
       "  <th>Time:</th>                 <td>14:00:45</td>     <th>  Log-Likelihood:    </th> <td> -1491.9</td>\n",
       "</tr>\n",
       "<tr>\n",
       "  <th>No. Observations:</th>      <td>   970</td>      <th>  AIC:               </th> <td>   2994.</td>\n",
       "</tr>\n",
       "<tr>\n",
       "  <th>Df Residuals:</th>          <td>   965</td>      <th>  BIC:               </th> <td>   3018.</td>\n",
       "</tr>\n",
       "<tr>\n",
       "  <th>Df Model:</th>              <td>     4</td>      <th>                     </th>     <td> </td>   \n",
       "</tr>\n",
       "<tr>\n",
       "  <th>Covariance Type:</th>      <td>nonrobust</td>    <th>                     </th>     <td> </td>   \n",
       "</tr>\n",
       "</table>\n",
       "<table class=\"simpletable\">\n",
       "<tr>\n",
       "      <td></td>         <th>coef</th>     <th>std err</th>      <th>t</th>      <th>P>|t|</th>  <th>[0.025</th>    <th>0.975]</th>  \n",
       "</tr>\n",
       "<tr>\n",
       "  <th>Intercept</th> <td>    0.9496</td> <td>    0.163</td> <td>    5.818</td> <td> 0.000</td> <td>    0.629</td> <td>    1.270</td>\n",
       "</tr>\n",
       "<tr>\n",
       "  <th>price</th>     <td>   -1.3385</td> <td>    0.028</td> <td>  -47.054</td> <td> 0.000</td> <td>   -1.394</td> <td>   -1.283</td>\n",
       "</tr>\n",
       "<tr>\n",
       "  <th>prod_att1</th> <td>    2.4160</td> <td>    0.045</td> <td>   53.906</td> <td> 0.000</td> <td>    2.328</td> <td>    2.504</td>\n",
       "</tr>\n",
       "<tr>\n",
       "  <th>prod_att2</th> <td>    0.5124</td> <td>    0.045</td> <td>   11.319</td> <td> 0.000</td> <td>    0.424</td> <td>    0.601</td>\n",
       "</tr>\n",
       "<tr>\n",
       "  <th>prod_att3</th> <td>    0.3696</td> <td>    0.043</td> <td>    8.689</td> <td> 0.000</td> <td>    0.286</td> <td>    0.453</td>\n",
       "</tr>\n",
       "</table>\n",
       "<table class=\"simpletable\">\n",
       "<tr>\n",
       "  <th>Omnibus:</th>       <td> 2.031</td> <th>  Durbin-Watson:     </th> <td>   1.837</td>\n",
       "</tr>\n",
       "<tr>\n",
       "  <th>Prob(Omnibus):</th> <td> 0.362</td> <th>  Jarque-Bera (JB):  </th> <td>   2.082</td>\n",
       "</tr>\n",
       "<tr>\n",
       "  <th>Skew:</th>          <td> 0.088</td> <th>  Prob(JB):          </th> <td>   0.353</td>\n",
       "</tr>\n",
       "<tr>\n",
       "  <th>Kurtosis:</th>      <td> 2.857</td> <th>  Cond. No.          </th> <td>    26.7</td>\n",
       "</tr>\n",
       "</table><br/><br/>Notes:<br/>[1] Standard Errors assume that the covariance matrix of the errors is correctly specified."
      ],
      "text/plain": [
       "<class 'statsmodels.iolib.summary.Summary'>\n",
       "\"\"\"\n",
       "                            OLS Regression Results                            \n",
       "==============================================================================\n",
       "Dep. Variable:                utility   R-squared:                       0.843\n",
       "Model:                            OLS   Adj. R-squared:                  0.842\n",
       "Method:                 Least Squares   F-statistic:                     1294.\n",
       "Date:                Thu, 24 Nov 2022   Prob (F-statistic):               0.00\n",
       "Time:                        14:00:45   Log-Likelihood:                -1491.9\n",
       "No. Observations:                 970   AIC:                             2994.\n",
       "Df Residuals:                     965   BIC:                             3018.\n",
       "Df Model:                           4                                         \n",
       "Covariance Type:            nonrobust                                         \n",
       "==============================================================================\n",
       "                 coef    std err          t      P>|t|      [0.025      0.975]\n",
       "------------------------------------------------------------------------------\n",
       "Intercept      0.9496      0.163      5.818      0.000       0.629       1.270\n",
       "price         -1.3385      0.028    -47.054      0.000      -1.394      -1.283\n",
       "prod_att1      2.4160      0.045     53.906      0.000       2.328       2.504\n",
       "prod_att2      0.5124      0.045     11.319      0.000       0.424       0.601\n",
       "prod_att3      0.3696      0.043      8.689      0.000       0.286       0.453\n",
       "==============================================================================\n",
       "Omnibus:                        2.031   Durbin-Watson:                   1.837\n",
       "Prob(Omnibus):                  0.362   Jarque-Bera (JB):                2.082\n",
       "Skew:                           0.088   Prob(JB):                        0.353\n",
       "Kurtosis:                       2.857   Cond. No.                         26.7\n",
       "==============================================================================\n",
       "\n",
       "Notes:\n",
       "[1] Standard Errors assume that the covariance matrix of the errors is correctly specified.\n",
       "\"\"\""
      ]
     },
     "execution_count": 36,
     "metadata": {},
     "output_type": "execute_result"
    }
   ],
   "source": [
    "# OLS\n",
    "ols_logit = smf.ols('utility ~ 1 + price + prod_att1 + prod_att2 + prod_att3', data=df).fit()\n",
    "ols_logit.summary()\n"
   ]
  },
  {
   "cell_type": "markdown",
   "metadata": {},
   "source": [
    "**Question b)**\n",
    "\n",
    "Estimate the same Logit model using Instrumental Variables (IV). Use the cost shifters as instruments, providing the results also for the 1st stage. How do your results change compared to the OLS case? Provide an intuition for the endogeneity bias. Calculate the mean across markets of own and cross price elasticities."
   ]
  },
  {
   "cell_type": "code",
   "execution_count": 38,
   "metadata": {},
   "outputs": [
    {
     "data": {
      "text/html": [
       "<table class=\"simpletable\">\n",
       "<caption>IV-2SLS Estimation Summary</caption>\n",
       "<tr>\n",
       "  <th>Dep. Variable:</th>         <td>utility</td>     <th>  R-squared:         </th> <td>0.8400</td> \n",
       "</tr>\n",
       "<tr>\n",
       "  <th>Estimator:</th>             <td>IV-2SLS</td>     <th>  Adj. R-squared:    </th> <td>0.8393</td> \n",
       "</tr>\n",
       "<tr>\n",
       "  <th>No. Observations:</th>        <td>970</td>       <th>  F-statistic:       </th> <td>3905.7</td> \n",
       "</tr>\n",
       "<tr>\n",
       "  <th>Date:</th>             <td>Thu, Nov 24 2022</td> <th>  P-value (F-stat)   </th> <td>0.0000</td> \n",
       "</tr>\n",
       "<tr>\n",
       "  <th>Time:</th>                 <td>14:17:00</td>     <th>  Distribution:      </th> <td>chi2(4)</td>\n",
       "</tr>\n",
       "<tr>\n",
       "  <th>Cov. Estimator:</th>        <td>robust</td>      <th>                     </th>    <td></td>    \n",
       "</tr>\n",
       "<tr>\n",
       "  <th></th>                          <td></td>         <th>                     </th>    <td></td>    \n",
       "</tr>\n",
       "</table>\n",
       "<table class=\"simpletable\">\n",
       "<caption>Parameter Estimates</caption>\n",
       "<tr>\n",
       "      <td></td>      <th>Parameter</th> <th>Std. Err.</th> <th>T-stat</th>  <th>P-value</th> <th>Lower CI</th> <th>Upper CI</th>\n",
       "</tr>\n",
       "<tr>\n",
       "  <th>Intercept</th>  <td>1.6129</td>    <td>0.2304</td>   <td>7.0003</td>  <td>0.0000</td>   <td>1.1613</td>   <td>2.0644</td> \n",
       "</tr>\n",
       "<tr>\n",
       "  <th>prod_att1</th>  <td>2.4668</td>    <td>0.0478</td>   <td>51.598</td>  <td>0.0000</td>   <td>2.3731</td>   <td>2.5605</td> \n",
       "</tr>\n",
       "<tr>\n",
       "  <th>prod_att2</th>  <td>0.5616</td>    <td>0.0491</td>   <td>11.435</td>  <td>0.0000</td>   <td>0.4653</td>   <td>0.6579</td> \n",
       "</tr>\n",
       "<tr>\n",
       "  <th>prod_att3</th>  <td>0.3725</td>    <td>0.0444</td>   <td>8.3935</td>  <td>0.0000</td>   <td>0.2855</td>   <td>0.4595</td> \n",
       "</tr>\n",
       "<tr>\n",
       "  <th>price</th>      <td>-1.4571</td>   <td>0.0417</td>   <td>-34.962</td> <td>0.0000</td>   <td>-1.5388</td>  <td>-1.3754</td>\n",
       "</tr>\n",
       "</table><br/><br/>Endogenous: price<br/>Instruments: shifter1, shifter2, shifter3<br/>Robust Covariance (Heteroskedastic)<br/>Debiased: False"
      ],
      "text/plain": [
       "<class 'linearmodels.compat.statsmodels.Summary'>\n",
       "\"\"\"\n",
       "                          IV-2SLS Estimation Summary                          \n",
       "==============================================================================\n",
       "Dep. Variable:                utility   R-squared:                      0.8400\n",
       "Estimator:                    IV-2SLS   Adj. R-squared:                 0.8393\n",
       "No. Observations:                 970   F-statistic:                    3905.7\n",
       "Date:                Thu, Nov 24 2022   P-value (F-stat)                0.0000\n",
       "Time:                        14:17:00   Distribution:                  chi2(4)\n",
       "Cov. Estimator:                robust                                         \n",
       "                                                                              \n",
       "                             Parameter Estimates                              \n",
       "==============================================================================\n",
       "            Parameter  Std. Err.     T-stat    P-value    Lower CI    Upper CI\n",
       "------------------------------------------------------------------------------\n",
       "Intercept      1.6129     0.2304     7.0003     0.0000      1.1613      2.0644\n",
       "prod_att1      2.4668     0.0478     51.598     0.0000      2.3731      2.5605\n",
       "prod_att2      0.5616     0.0491     11.435     0.0000      0.4653      0.6579\n",
       "prod_att3      0.3725     0.0444     8.3935     0.0000      0.2855      0.4595\n",
       "price         -1.4571     0.0417    -34.962     0.0000     -1.5388     -1.3754\n",
       "==============================================================================\n",
       "\n",
       "Endogenous: price\n",
       "Instruments: shifter1, shifter2, shifter3\n",
       "Robust Covariance (Heteroskedastic)\n",
       "Debiased: False\n",
       "\"\"\""
      ]
     },
     "execution_count": 38,
     "metadata": {},
     "output_type": "execute_result"
    }
   ],
   "source": [
    "iv_logit = IV2SLS.from_formula('utility ~ 1 + [price ~ shifter1 + shifter2 + shifter3] + prod_att1 + prod_att2 + prod_att3', data = df).fit()\n",
    "iv_logit.summary\n"
   ]
  },
  {
   "cell_type": "markdown",
   "metadata": {},
   "source": [
    "**Elasticities** \n",
    "\n",
    "Own-price elasticities: $\\epsilon_{jj} = \\alpha p_{jn} (1-s_{jn})$\n",
    "\n",
    "Cross-price elasticities: $\\epsilon_{jk} = - \\alpha p_{kn} s_{kn}$"
   ]
  },
  {
   "cell_type": "code",
   "execution_count": 49,
   "metadata": {},
   "outputs": [
    {
     "data": {
      "text/plain": [
       "-7.993652493251175"
      ]
     },
     "execution_count": 49,
     "metadata": {},
     "output_type": "execute_result"
    }
   ],
   "source": [
    "# Own price elasticities \n",
    "df['e_jj'] = iv_logit.params['price'] * df['price'] * (1 - df['prod_share'])\n",
    "# Mean across markets \n",
    "np.mean(df.e_jj)"
   ]
  },
  {
   "cell_type": "code",
   "execution_count": 51,
   "metadata": {},
   "outputs": [
    {
     "data": {
      "text/plain": [
       "0.13366860095027963"
      ]
     },
     "execution_count": 51,
     "metadata": {},
     "output_type": "execute_result"
    }
   ],
   "source": [
    "# Cross-price elasticities \n",
    "df['e_jk'] = - iv_logit.params['price'] * df['price'] * df['prod_share']\n",
    "# Mean across markets\n",
    "np.mean(df.e_jk) \n",
    "\n",
    "# I tried weighting the means by market share but it doesn't change much. Not sure what's ideal. "
   ]
  },
  {
   "cell_type": "markdown",
   "metadata": {},
   "source": [
    "**Question c)**\n",
    "\n",
    "You will need to construct a GMM objective function with both demand and supply moments, with the price coefficient α entering in both moments (cross-equation restriction). How do your results change compared to the case with just IV?\n"
   ]
  },
  {
   "cell_type": "code",
   "execution_count": null,
   "metadata": {},
   "outputs": [],
   "source": [
    "## No clue how to do this "
   ]
  },
  {
   "cell_type": "markdown",
   "metadata": {},
   "source": [
    "## 2.2 Nested Logit Demand"
   ]
  },
  {
   "cell_type": "markdown",
   "metadata": {},
   "source": [
    "**Question a)**\n",
    "\n",
    "Estimate a Nested Logit Model using IV based on the following: \n",
    "\n",
    "$$u_{ijn} = \\alpha p_{jn} + x_{jn} \\beta + \\xi_{jn} + \\zeta_{ign} + (1-\\sigma)\\varepsilon_{ijn}$$"
   ]
  },
  {
   "cell_type": "markdown",
   "metadata": {},
   "source": [
    "Will estimate: \n",
    "\n",
    "$$log(\\frac{s_{jn}}{s_{0n}}) = \\alpha p_{jn} + x_{jn} \\beta + \\sigma log(\\frac{s_{jn}}{s_{gn}}) + \\xi_{jn}$$\n",
    "\n",
    "Got help from https://pyblp.readthedocs.io/en/stable/_notebooks/tutorial/logit_nested.html"
   ]
  },
  {
   "cell_type": "code",
   "execution_count": 56,
   "metadata": {},
   "outputs": [],
   "source": [
    "# Creating group shares \n",
    "df['group_share'] = df.groupby(['group', 'mkt_id'])['prod_share'].transform('sum')\n",
    "\n",
    "# Creating ratio of product share to group share \n",
    "df['sjn_sgn'] = np.log(df['prod_share']/df['group_share'])\n"
   ]
  },
  {
   "cell_type": "code",
   "execution_count": 59,
   "metadata": {},
   "outputs": [
    {
     "data": {
      "text/html": [
       "<table class=\"simpletable\">\n",
       "<caption>IV-2SLS Estimation Summary</caption>\n",
       "<tr>\n",
       "  <th>Dep. Variable:</th>         <td>utility</td>     <th>  R-squared:         </th> <td>0.9057</td> \n",
       "</tr>\n",
       "<tr>\n",
       "  <th>Estimator:</th>             <td>IV-2SLS</td>     <th>  Adj. R-squared:    </th> <td>0.9052</td> \n",
       "</tr>\n",
       "<tr>\n",
       "  <th>No. Observations:</th>        <td>970</td>       <th>  F-statistic:       </th> <td>8292.7</td> \n",
       "</tr>\n",
       "<tr>\n",
       "  <th>Date:</th>             <td>Thu, Nov 24 2022</td> <th>  P-value (F-stat)   </th> <td>0.0000</td> \n",
       "</tr>\n",
       "<tr>\n",
       "  <th>Time:</th>                 <td>15:49:57</td>     <th>  Distribution:      </th> <td>chi2(5)</td>\n",
       "</tr>\n",
       "<tr>\n",
       "  <th>Cov. Estimator:</th>        <td>robust</td>      <th>                     </th>    <td></td>    \n",
       "</tr>\n",
       "<tr>\n",
       "  <th></th>                          <td></td>         <th>                     </th>    <td></td>    \n",
       "</tr>\n",
       "</table>\n",
       "<table class=\"simpletable\">\n",
       "<caption>Parameter Estimates</caption>\n",
       "<tr>\n",
       "      <td></td>      <th>Parameter</th> <th>Std. Err.</th> <th>T-stat</th>  <th>P-value</th> <th>Lower CI</th> <th>Upper CI</th>\n",
       "</tr>\n",
       "<tr>\n",
       "  <th>Intercept</th>  <td>-0.0200</td>   <td>0.2560</td>   <td>-0.0783</td> <td>0.9376</td>   <td>-0.5219</td>  <td>0.4818</td> \n",
       "</tr>\n",
       "<tr>\n",
       "  <th>prod_att1</th>  <td>2.1441</td>    <td>0.0441</td>   <td>48.616</td>  <td>0.0000</td>   <td>2.0577</td>   <td>2.2305</td> \n",
       "</tr>\n",
       "<tr>\n",
       "  <th>prod_att2</th>  <td>0.3213</td>    <td>0.0437</td>   <td>7.3596</td>  <td>0.0000</td>   <td>0.2357</td>   <td>0.4069</td> \n",
       "</tr>\n",
       "<tr>\n",
       "  <th>prod_att3</th>  <td>0.2620</td>    <td>0.0338</td>   <td>7.7564</td>  <td>0.0000</td>   <td>0.1958</td>   <td>0.3282</td> \n",
       "</tr>\n",
       "<tr>\n",
       "  <th>sjn_sgn</th>    <td>0.3908</td>    <td>0.0257</td>   <td>15.196</td>  <td>0.0000</td>   <td>0.3404</td>   <td>0.4413</td> \n",
       "</tr>\n",
       "<tr>\n",
       "  <th>price</th>      <td>-0.9155</td>   <td>0.0596</td>   <td>-15.356</td> <td>0.0000</td>   <td>-1.0323</td>  <td>-0.7986</td>\n",
       "</tr>\n",
       "</table><br/><br/>Endogenous: price<br/>Instruments: shifter1, shifter2, shifter3<br/>Robust Covariance (Heteroskedastic)<br/>Debiased: False"
      ],
      "text/plain": [
       "<class 'linearmodels.compat.statsmodels.Summary'>\n",
       "\"\"\"\n",
       "                          IV-2SLS Estimation Summary                          \n",
       "==============================================================================\n",
       "Dep. Variable:                utility   R-squared:                      0.9057\n",
       "Estimator:                    IV-2SLS   Adj. R-squared:                 0.9052\n",
       "No. Observations:                 970   F-statistic:                    8292.7\n",
       "Date:                Thu, Nov 24 2022   P-value (F-stat)                0.0000\n",
       "Time:                        15:49:57   Distribution:                  chi2(5)\n",
       "Cov. Estimator:                robust                                         \n",
       "                                                                              \n",
       "                             Parameter Estimates                              \n",
       "==============================================================================\n",
       "            Parameter  Std. Err.     T-stat    P-value    Lower CI    Upper CI\n",
       "------------------------------------------------------------------------------\n",
       "Intercept     -0.0200     0.2560    -0.0783     0.9376     -0.5219      0.4818\n",
       "prod_att1      2.1441     0.0441     48.616     0.0000      2.0577      2.2305\n",
       "prod_att2      0.3213     0.0437     7.3596     0.0000      0.2357      0.4069\n",
       "prod_att3      0.2620     0.0338     7.7564     0.0000      0.1958      0.3282\n",
       "sjn_sgn        0.3908     0.0257     15.196     0.0000      0.3404      0.4413\n",
       "price         -0.9155     0.0596    -15.356     0.0000     -1.0323     -0.7986\n",
       "==============================================================================\n",
       "\n",
       "Endogenous: price\n",
       "Instruments: shifter1, shifter2, shifter3\n",
       "Robust Covariance (Heteroskedastic)\n",
       "Debiased: False\n",
       "\"\"\""
      ]
     },
     "execution_count": 59,
     "metadata": {},
     "output_type": "execute_result"
    }
   ],
   "source": [
    "nest_logit = IV2SLS.from_formula('utility ~ 1 + [price ~ shifter1 + shifter2 + shifter3] + sjn_sgn + prod_att1 + prod_att2 + prod_att3', data=df).fit()\n",
    "nest_logit.summary"
   ]
  },
  {
   "cell_type": "markdown",
   "metadata": {},
   "source": [
    "**Own-price elasticities** \n",
    "\n",
    "Products not in a nest: $\\epsilon_{jj} = \\alpha p_{jn} (1-s_{jn})$\n",
    "\n",
    "Products in a nest: $\\epsilon_{jj} = \\frac{\\alpha p_{jn}}{1-\\sigma} (1-\\sigma s_{j|g,n} - (1-\\sigma)s_{jn})$\n"
   ]
  },
  {
   "cell_type": "code",
   "execution_count": 60,
   "metadata": {},
   "outputs": [],
   "source": [
    "alpha = nest_logit.params['price']\n",
    "sigma = nest_logit.params['sjn_sgn']"
   ]
  },
  {
   "cell_type": "code",
   "execution_count": 63,
   "metadata": {},
   "outputs": [
    {
     "data": {
      "text/plain": [
       "-5.022401401654601"
      ]
     },
     "execution_count": 63,
     "metadata": {},
     "output_type": "execute_result"
    }
   ],
   "source": [
    "# Products not in nest \n",
    "df['e_jj'] = alpha * df['price'] * (1 - df['prod_share'])\n",
    "np.mean(df.e_jj)"
   ]
  },
  {
   "cell_type": "code",
   "execution_count": 64,
   "metadata": {},
   "outputs": [
    {
     "data": {
      "text/plain": [
       "-7.883001635885313"
      ]
     },
     "execution_count": 64,
     "metadata": {},
     "output_type": "execute_result"
    }
   ],
   "source": [
    "# Products in a nest \n",
    "df['e_jj_nest'] = (alpha * df['price'])/(1 - sigma) * (1 - sigma * (df['prod_share']/df['group_share']) - (1 - sigma) * df['prod_share'])\n",
    "np.mean(df.e_jj_nest)"
   ]
  },
  {
   "cell_type": "markdown",
   "metadata": {},
   "source": [
    "**Cross-price elasticities** \n",
    "\n",
    "Products in different nests: $\\epsilon_{jk} = - \\alpha p_{kn} s_{kn}$\n",
    "\n",
    "Products in the same nest: $\\epsilon{jk} = - \\frac{\\alpha p_{kn}}{1 - \\sigma}(\\sigma s_{k|g,n} + (1 - \\sigma)s_{kn})$"
   ]
  },
  {
   "cell_type": "code",
   "execution_count": 65,
   "metadata": {},
   "outputs": [
    {
     "data": {
      "text/plain": [
       "0.08398380706900704"
      ]
     },
     "execution_count": 65,
     "metadata": {},
     "output_type": "execute_result"
    }
   ],
   "source": [
    "# Products in different nests \n",
    "df['e_jk'] = - alpha * df['price'] * df['prod_share']\n",
    "np.mean(df.e_jk)"
   ]
  },
  {
   "cell_type": "code",
   "execution_count": 66,
   "metadata": {},
   "outputs": [
    {
     "data": {
      "text/plain": [
       "0.4997047171412455"
      ]
     },
     "execution_count": 66,
     "metadata": {},
     "output_type": "execute_result"
    }
   ],
   "source": [
    "# Products in the same nest \n",
    "df['e_jk_nest'] = - (alpha * df['price'])/(1 - sigma) * ( sigma * (df['prod_share']/df['group_share']) + (1 - sigma) * df['prod_share'])\n",
    "np.mean(df.e_jk_nest)"
   ]
  },
  {
   "cell_type": "code",
   "execution_count": null,
   "metadata": {},
   "outputs": [],
   "source": []
  }
 ],
 "metadata": {
  "kernelspec": {
   "display_name": "Python 3.10.5 ('pp4rs')",
   "language": "python",
   "name": "python3"
  },
  "language_info": {
   "codemirror_mode": {
    "name": "ipython",
    "version": 3
   },
   "file_extension": ".py",
   "mimetype": "text/x-python",
   "name": "python",
   "nbconvert_exporter": "python",
   "pygments_lexer": "ipython3",
   "version": "3.10.5"
  },
  "orig_nbformat": 4,
  "vscode": {
   "interpreter": {
    "hash": "12378330c2209a9df4cbf7c0520aaa5a4039838045573665c3c52dcf8dce40e4"
   }
  }
 },
 "nbformat": 4,
 "nbformat_minor": 2
}
