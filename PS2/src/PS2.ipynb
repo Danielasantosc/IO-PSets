{
 "cells": [
  {
   "cell_type": "markdown",
   "id": "2ffdc8d0",
   "metadata": {},
   "source": [
    "## Problem Set 2\n",
    "Daniela Santos Cárdenas, Ana Brás Monteiro"
   ]
  },
  {
   "cell_type": "code",
   "execution_count": 1,
   "id": "65a5a32e",
   "metadata": {},
   "outputs": [],
   "source": [
    "# Importing the necessary libraries\n",
    "import pandas as pd\n",
    "import statsmodels.formula.api as smf\n",
    "import numpy as np\n",
    "import pyblp\n",
    "from linearmodels.iv import IV2SLS\n",
    "from statsmodels.sandbox.regression.gmm import GMM\n",
    "from statsmodels.sandbox.regression import gmm\n",
    "from linearmodels.iv import IVGMM\n",
    "from scipy.linalg import block_diag\n",
    "import matplotlib.pyplot as plt\n",
    "\n",
    "pyblp.options.digits = 2\n",
    "pyblp.options.verbose = False"
   ]
  },
  {
   "cell_type": "code",
   "execution_count": 2,
   "id": "b7b738f5",
   "metadata": {},
   "outputs": [],
   "source": [
    "# Import data \n",
    "\n",
    "colnames=['mkt_id', 'prod_id', 'prod_share', 'prod_att1', 'prod_att2', 'prod_att3', 'price', 'shifter1', 'shifter2', 'shifter3', 'group'] \n",
    "\n",
    "df = pd.read_csv('../data/Data.csv', names=colnames, header=None)"
   ]
  },
  {
   "cell_type": "code",
   "execution_count": 32,
   "id": "734b037a",
   "metadata": {
    "scrolled": false
   },
   "outputs": [
    {
     "data": {
      "text/html": [
       "<div>\n",
       "<style scoped>\n",
       "    .dataframe tbody tr th:only-of-type {\n",
       "        vertical-align: middle;\n",
       "    }\n",
       "\n",
       "    .dataframe tbody tr th {\n",
       "        vertical-align: top;\n",
       "    }\n",
       "\n",
       "    .dataframe thead th {\n",
       "        text-align: right;\n",
       "    }\n",
       "</style>\n",
       "<table border=\"1\" class=\"dataframe\">\n",
       "  <thead>\n",
       "    <tr style=\"text-align: right;\">\n",
       "      <th></th>\n",
       "      <th>mkt_id</th>\n",
       "      <th>prod_id</th>\n",
       "      <th>prod_share</th>\n",
       "      <th>prod_att1</th>\n",
       "      <th>prod_att2</th>\n",
       "      <th>prod_att3</th>\n",
       "      <th>price</th>\n",
       "      <th>shifter1</th>\n",
       "      <th>shifter2</th>\n",
       "      <th>shifter3</th>\n",
       "      <th>group</th>\n",
       "    </tr>\n",
       "  </thead>\n",
       "  <tbody>\n",
       "    <tr>\n",
       "      <th>count</th>\n",
       "      <td>970.000000</td>\n",
       "      <td>970.000000</td>\n",
       "      <td>9.700000e+02</td>\n",
       "      <td>970.000000</td>\n",
       "      <td>970.000000</td>\n",
       "      <td>970.000000</td>\n",
       "      <td>970.000000</td>\n",
       "      <td>970.000000</td>\n",
       "      <td>970.000000</td>\n",
       "      <td>970.000000</td>\n",
       "      <td>970.000000</td>\n",
       "    </tr>\n",
       "    <tr>\n",
       "      <th>mean</th>\n",
       "      <td>26.167010</td>\n",
       "      <td>10.430928</td>\n",
       "      <td>1.912517e-02</td>\n",
       "      <td>-0.030330</td>\n",
       "      <td>-0.004903</td>\n",
       "      <td>-0.057823</td>\n",
       "      <td>5.577779</td>\n",
       "      <td>-0.029543</td>\n",
       "      <td>-0.012141</td>\n",
       "      <td>-0.044407</td>\n",
       "      <td>2.010309</td>\n",
       "    </tr>\n",
       "    <tr>\n",
       "      <th>std</th>\n",
       "      <td>14.485213</td>\n",
       "      <td>5.990177</td>\n",
       "      <td>6.025534e-02</td>\n",
       "      <td>0.995995</td>\n",
       "      <td>0.999779</td>\n",
       "      <td>1.016903</td>\n",
       "      <td>1.371331</td>\n",
       "      <td>1.007472</td>\n",
       "      <td>0.989332</td>\n",
       "      <td>0.977154</td>\n",
       "      <td>0.818956</td>\n",
       "    </tr>\n",
       "    <tr>\n",
       "      <th>min</th>\n",
       "      <td>1.000000</td>\n",
       "      <td>1.000000</td>\n",
       "      <td>3.019000e-07</td>\n",
       "      <td>-2.985200</td>\n",
       "      <td>-3.104500</td>\n",
       "      <td>-4.167300</td>\n",
       "      <td>1.328500</td>\n",
       "      <td>-2.850200</td>\n",
       "      <td>-4.096800</td>\n",
       "      <td>-3.251200</td>\n",
       "      <td>1.000000</td>\n",
       "    </tr>\n",
       "    <tr>\n",
       "      <th>25%</th>\n",
       "      <td>14.000000</td>\n",
       "      <td>5.000000</td>\n",
       "      <td>9.976725e-05</td>\n",
       "      <td>-0.706257</td>\n",
       "      <td>-0.682220</td>\n",
       "      <td>-0.706403</td>\n",
       "      <td>4.708150</td>\n",
       "      <td>-0.710245</td>\n",
       "      <td>-0.704515</td>\n",
       "      <td>-0.700940</td>\n",
       "      <td>1.000000</td>\n",
       "    </tr>\n",
       "    <tr>\n",
       "      <th>50%</th>\n",
       "      <td>26.500000</td>\n",
       "      <td>10.000000</td>\n",
       "      <td>7.848100e-04</td>\n",
       "      <td>-0.064417</td>\n",
       "      <td>0.042951</td>\n",
       "      <td>-0.068317</td>\n",
       "      <td>5.527950</td>\n",
       "      <td>-0.055330</td>\n",
       "      <td>0.017694</td>\n",
       "      <td>-0.001928</td>\n",
       "      <td>2.000000</td>\n",
       "    </tr>\n",
       "    <tr>\n",
       "      <th>75%</th>\n",
       "      <td>39.000000</td>\n",
       "      <td>15.000000</td>\n",
       "      <td>5.950150e-03</td>\n",
       "      <td>0.670627</td>\n",
       "      <td>0.681762</td>\n",
       "      <td>0.620657</td>\n",
       "      <td>6.507125</td>\n",
       "      <td>0.688550</td>\n",
       "      <td>0.695118</td>\n",
       "      <td>0.590225</td>\n",
       "      <td>3.000000</td>\n",
       "    </tr>\n",
       "    <tr>\n",
       "      <th>max</th>\n",
       "      <td>50.000000</td>\n",
       "      <td>25.000000</td>\n",
       "      <td>5.582900e-01</td>\n",
       "      <td>2.811000</td>\n",
       "      <td>3.690400</td>\n",
       "      <td>3.231500</td>\n",
       "      <td>10.000000</td>\n",
       "      <td>3.275500</td>\n",
       "      <td>3.681100</td>\n",
       "      <td>3.272600</td>\n",
       "      <td>3.000000</td>\n",
       "    </tr>\n",
       "  </tbody>\n",
       "</table>\n",
       "</div>"
      ],
      "text/plain": [
       "           mkt_id     prod_id    prod_share   prod_att1   prod_att2  \\\n",
       "count  970.000000  970.000000  9.700000e+02  970.000000  970.000000   \n",
       "mean    26.167010   10.430928  1.912517e-02   -0.030330   -0.004903   \n",
       "std     14.485213    5.990177  6.025534e-02    0.995995    0.999779   \n",
       "min      1.000000    1.000000  3.019000e-07   -2.985200   -3.104500   \n",
       "25%     14.000000    5.000000  9.976725e-05   -0.706257   -0.682220   \n",
       "50%     26.500000   10.000000  7.848100e-04   -0.064417    0.042951   \n",
       "75%     39.000000   15.000000  5.950150e-03    0.670627    0.681762   \n",
       "max     50.000000   25.000000  5.582900e-01    2.811000    3.690400   \n",
       "\n",
       "        prod_att3       price    shifter1    shifter2    shifter3       group  \n",
       "count  970.000000  970.000000  970.000000  970.000000  970.000000  970.000000  \n",
       "mean    -0.057823    5.577779   -0.029543   -0.012141   -0.044407    2.010309  \n",
       "std      1.016903    1.371331    1.007472    0.989332    0.977154    0.818956  \n",
       "min     -4.167300    1.328500   -2.850200   -4.096800   -3.251200    1.000000  \n",
       "25%     -0.706403    4.708150   -0.710245   -0.704515   -0.700940    1.000000  \n",
       "50%     -0.068317    5.527950   -0.055330    0.017694   -0.001928    2.000000  \n",
       "75%      0.620657    6.507125    0.688550    0.695118    0.590225    3.000000  \n",
       "max      3.231500   10.000000    3.275500    3.681100    3.272600    3.000000  "
      ]
     },
     "execution_count": 32,
     "metadata": {},
     "output_type": "execute_result"
    }
   ],
   "source": [
    "df.describe()"
   ]
  },
  {
   "cell_type": "markdown",
   "id": "48e48f08",
   "metadata": {},
   "source": [
    "## 2.1 Logit Demand"
   ]
  },
  {
   "cell_type": "markdown",
   "id": "00bca120",
   "metadata": {},
   "source": [
    "**Question a)**\n",
    "\n",
    "Estimate an aggregate Logit model using OLS based on the following utility function that individual i derives from buying product j in market n: \n",
    "\n",
    "$$u_{ijn} = \\alpha p_{jn} + x_{jn} \\beta + \\xi_{jn} + \\varepsilon_{ijn}$$"
   ]
  },
  {
   "cell_type": "markdown",
   "id": "1d18e765",
   "metadata": {},
   "source": [
    "Dependent variable: $\\delta_{jn} = log(\\frac{s_{jn}}{s_{0n}})$"
   ]
  },
  {
   "cell_type": "code",
   "execution_count": 3,
   "id": "ea0da281",
   "metadata": {},
   "outputs": [],
   "source": [
    "# Creating market shares \n",
    "df['mkt_share'] = df.groupby('mkt_id')['prod_share'].transform('sum')\n",
    "\n",
    "# Share of the outside good \n",
    "df['mkt_share_out'] = 1 - df['mkt_share']\n",
    "\n",
    "# Calculate log of ratio \n",
    "df['utility'] = np.log(df['prod_share']/df['mkt_share_out'])\n"
   ]
  },
  {
   "cell_type": "code",
   "execution_count": 10,
   "id": "9706ad28",
   "metadata": {
    "scrolled": true
   },
   "outputs": [
    {
     "data": {
      "text/html": [
       "<table class=\"simpletable\">\n",
       "<caption>OLS Regression Results</caption>\n",
       "<tr>\n",
       "  <th>Dep. Variable:</th>         <td>utility</td>     <th>  R-squared:         </th> <td>   0.843</td>\n",
       "</tr>\n",
       "<tr>\n",
       "  <th>Model:</th>                   <td>OLS</td>       <th>  Adj. R-squared:    </th> <td>   0.842</td>\n",
       "</tr>\n",
       "<tr>\n",
       "  <th>Method:</th>             <td>Least Squares</td>  <th>  F-statistic:       </th> <td>   1294.</td>\n",
       "</tr>\n",
       "<tr>\n",
       "  <th>Date:</th>             <td>Tue, 10 Jan 2023</td> <th>  Prob (F-statistic):</th>  <td>  0.00</td> \n",
       "</tr>\n",
       "<tr>\n",
       "  <th>Time:</th>                 <td>19:11:00</td>     <th>  Log-Likelihood:    </th> <td> -1491.9</td>\n",
       "</tr>\n",
       "<tr>\n",
       "  <th>No. Observations:</th>      <td>   970</td>      <th>  AIC:               </th> <td>   2994.</td>\n",
       "</tr>\n",
       "<tr>\n",
       "  <th>Df Residuals:</th>          <td>   965</td>      <th>  BIC:               </th> <td>   3018.</td>\n",
       "</tr>\n",
       "<tr>\n",
       "  <th>Df Model:</th>              <td>     4</td>      <th>                     </th>     <td> </td>   \n",
       "</tr>\n",
       "<tr>\n",
       "  <th>Covariance Type:</th>      <td>nonrobust</td>    <th>                     </th>     <td> </td>   \n",
       "</tr>\n",
       "</table>\n",
       "<table class=\"simpletable\">\n",
       "<tr>\n",
       "      <td></td>         <th>coef</th>     <th>std err</th>      <th>t</th>      <th>P>|t|</th>  <th>[0.025</th>    <th>0.975]</th>  \n",
       "</tr>\n",
       "<tr>\n",
       "  <th>Intercept</th> <td>    0.9496</td> <td>    0.163</td> <td>    5.818</td> <td> 0.000</td> <td>    0.629</td> <td>    1.270</td>\n",
       "</tr>\n",
       "<tr>\n",
       "  <th>price</th>     <td>   -1.3385</td> <td>    0.028</td> <td>  -47.054</td> <td> 0.000</td> <td>   -1.394</td> <td>   -1.283</td>\n",
       "</tr>\n",
       "<tr>\n",
       "  <th>prod_att1</th> <td>    2.4160</td> <td>    0.045</td> <td>   53.906</td> <td> 0.000</td> <td>    2.328</td> <td>    2.504</td>\n",
       "</tr>\n",
       "<tr>\n",
       "  <th>prod_att2</th> <td>    0.5124</td> <td>    0.045</td> <td>   11.319</td> <td> 0.000</td> <td>    0.424</td> <td>    0.601</td>\n",
       "</tr>\n",
       "<tr>\n",
       "  <th>prod_att3</th> <td>    0.3696</td> <td>    0.043</td> <td>    8.689</td> <td> 0.000</td> <td>    0.286</td> <td>    0.453</td>\n",
       "</tr>\n",
       "</table>\n",
       "<table class=\"simpletable\">\n",
       "<tr>\n",
       "  <th>Omnibus:</th>       <td> 2.031</td> <th>  Durbin-Watson:     </th> <td>   1.837</td>\n",
       "</tr>\n",
       "<tr>\n",
       "  <th>Prob(Omnibus):</th> <td> 0.362</td> <th>  Jarque-Bera (JB):  </th> <td>   2.082</td>\n",
       "</tr>\n",
       "<tr>\n",
       "  <th>Skew:</th>          <td> 0.088</td> <th>  Prob(JB):          </th> <td>   0.353</td>\n",
       "</tr>\n",
       "<tr>\n",
       "  <th>Kurtosis:</th>      <td> 2.857</td> <th>  Cond. No.          </th> <td>    26.7</td>\n",
       "</tr>\n",
       "</table><br/><br/>Notes:<br/>[1] Standard Errors assume that the covariance matrix of the errors is correctly specified."
      ],
      "text/plain": [
       "<class 'statsmodels.iolib.summary.Summary'>\n",
       "\"\"\"\n",
       "                            OLS Regression Results                            \n",
       "==============================================================================\n",
       "Dep. Variable:                utility   R-squared:                       0.843\n",
       "Model:                            OLS   Adj. R-squared:                  0.842\n",
       "Method:                 Least Squares   F-statistic:                     1294.\n",
       "Date:                Tue, 10 Jan 2023   Prob (F-statistic):               0.00\n",
       "Time:                        19:11:00   Log-Likelihood:                -1491.9\n",
       "No. Observations:                 970   AIC:                             2994.\n",
       "Df Residuals:                     965   BIC:                             3018.\n",
       "Df Model:                           4                                         \n",
       "Covariance Type:            nonrobust                                         \n",
       "==============================================================================\n",
       "                 coef    std err          t      P>|t|      [0.025      0.975]\n",
       "------------------------------------------------------------------------------\n",
       "Intercept      0.9496      0.163      5.818      0.000       0.629       1.270\n",
       "price         -1.3385      0.028    -47.054      0.000      -1.394      -1.283\n",
       "prod_att1      2.4160      0.045     53.906      0.000       2.328       2.504\n",
       "prod_att2      0.5124      0.045     11.319      0.000       0.424       0.601\n",
       "prod_att3      0.3696      0.043      8.689      0.000       0.286       0.453\n",
       "==============================================================================\n",
       "Omnibus:                        2.031   Durbin-Watson:                   1.837\n",
       "Prob(Omnibus):                  0.362   Jarque-Bera (JB):                2.082\n",
       "Skew:                           0.088   Prob(JB):                        0.353\n",
       "Kurtosis:                       2.857   Cond. No.                         26.7\n",
       "==============================================================================\n",
       "\n",
       "Notes:\n",
       "[1] Standard Errors assume that the covariance matrix of the errors is correctly specified.\n",
       "\"\"\""
      ]
     },
     "execution_count": 10,
     "metadata": {},
     "output_type": "execute_result"
    }
   ],
   "source": [
    "# OLS\n",
    "ols_logit = smf.ols('utility ~ 1 + price + prod_att1 + prod_att2 + prod_att3', data=df).fit()\n",
    "ols_logit.summary()\n"
   ]
  },
  {
   "cell_type": "markdown",
   "id": "b993f42b",
   "metadata": {},
   "source": [
    "**Question b)**\n",
    "\n",
    "Estimate the same Logit model using Instrumental Variables (IV). Use the cost shifters as instruments, providing the results also for the 1st stage. How do your results change compared to the OLS case? Provide an intuition for the endogeneity bias. Calculate the mean across markets of own and cross price elasticities."
   ]
  },
  {
   "cell_type": "code",
   "execution_count": 11,
   "id": "7912a9c6",
   "metadata": {},
   "outputs": [
    {
     "name": "stdout",
     "output_type": "stream",
     "text": [
      "                            OLS Regression Results                            \n",
      "==============================================================================\n",
      "Dep. Variable:                  price   R-squared:                       0.519\n",
      "Model:                            OLS   Adj. R-squared:                  0.516\n",
      "Method:                 Least Squares   F-statistic:                     173.0\n",
      "Date:                Tue, 10 Jan 2023   Prob (F-statistic):          3.50e-149\n",
      "Time:                        19:18:40   Log-Likelihood:                -1327.4\n",
      "No. Observations:                 970   AIC:                             2669.\n",
      "Df Residuals:                     963   BIC:                             2703.\n",
      "Df Model:                           6                                         \n",
      "Covariance Type:            nonrobust                                         \n",
      "==============================================================================\n",
      "                 coef    std err          t      P>|t|      [0.025      0.975]\n",
      "------------------------------------------------------------------------------\n",
      "Intercept      5.6208      0.031    183.015      0.000       5.561       5.681\n",
      "prod_att1      0.0768      0.062      1.249      0.212      -0.044       0.198\n",
      "prod_att2      0.0592      0.061      0.970      0.332      -0.061       0.179\n",
      "prod_att3      0.0175      0.064      0.274      0.784      -0.108       0.143\n",
      "shifter1       0.4611      0.046     10.106      0.000       0.372       0.551\n",
      "shifter2       0.4834      0.045     10.753      0.000       0.395       0.572\n",
      "shifter3       0.4483      0.054      8.363      0.000       0.343       0.553\n",
      "==============================================================================\n",
      "Omnibus:                        0.027   Durbin-Watson:                   2.019\n",
      "Prob(Omnibus):                  0.986   Jarque-Bera (JB):                0.052\n",
      "Skew:                          -0.012   Prob(JB):                        0.974\n",
      "Kurtosis:                       2.974   Cond. No.                         5.22\n",
      "==============================================================================\n",
      "\n",
      "Notes:\n",
      "[1] Standard Errors assume that the covariance matrix of the errors is correctly specified.\n"
     ]
    }
   ],
   "source": [
    "# Show first stage\n",
    "ols_fs = smf.ols('price ~ 1 + prod_att1 + prod_att2 + prod_att3 +shifter1 + shifter2 + shifter3', data=df).fit()\n",
    "print(ols_fs.summary()) "
   ]
  },
  {
   "cell_type": "code",
   "execution_count": 12,
   "id": "b01d0efc",
   "metadata": {
    "scrolled": true
   },
   "outputs": [
    {
     "data": {
      "text/html": [
       "<table class=\"simpletable\">\n",
       "<caption>IV-2SLS Estimation Summary</caption>\n",
       "<tr>\n",
       "  <th>Dep. Variable:</th>         <td>utility</td>     <th>  R-squared:         </th> <td>0.8400</td> \n",
       "</tr>\n",
       "<tr>\n",
       "  <th>Estimator:</th>             <td>IV-2SLS</td>     <th>  Adj. R-squared:    </th> <td>0.8393</td> \n",
       "</tr>\n",
       "<tr>\n",
       "  <th>No. Observations:</th>        <td>970</td>       <th>  F-statistic:       </th> <td>3905.7</td> \n",
       "</tr>\n",
       "<tr>\n",
       "  <th>Date:</th>             <td>Tue, Jan 10 2023</td> <th>  P-value (F-stat)   </th> <td>0.0000</td> \n",
       "</tr>\n",
       "<tr>\n",
       "  <th>Time:</th>                 <td>19:18:45</td>     <th>  Distribution:      </th> <td>chi2(4)</td>\n",
       "</tr>\n",
       "<tr>\n",
       "  <th>Cov. Estimator:</th>        <td>robust</td>      <th>                     </th>    <td></td>    \n",
       "</tr>\n",
       "<tr>\n",
       "  <th></th>                          <td></td>         <th>                     </th>    <td></td>    \n",
       "</tr>\n",
       "</table>\n",
       "<table class=\"simpletable\">\n",
       "<caption>Parameter Estimates</caption>\n",
       "<tr>\n",
       "      <td></td>      <th>Parameter</th> <th>Std. Err.</th> <th>T-stat</th>  <th>P-value</th> <th>Lower CI</th> <th>Upper CI</th>\n",
       "</tr>\n",
       "<tr>\n",
       "  <th>Intercept</th>  <td>1.6129</td>    <td>0.2304</td>   <td>7.0003</td>  <td>0.0000</td>   <td>1.1613</td>   <td>2.0644</td> \n",
       "</tr>\n",
       "<tr>\n",
       "  <th>prod_att1</th>  <td>2.4668</td>    <td>0.0478</td>   <td>51.598</td>  <td>0.0000</td>   <td>2.3731</td>   <td>2.5605</td> \n",
       "</tr>\n",
       "<tr>\n",
       "  <th>prod_att2</th>  <td>0.5616</td>    <td>0.0491</td>   <td>11.435</td>  <td>0.0000</td>   <td>0.4653</td>   <td>0.6579</td> \n",
       "</tr>\n",
       "<tr>\n",
       "  <th>prod_att3</th>  <td>0.3725</td>    <td>0.0444</td>   <td>8.3935</td>  <td>0.0000</td>   <td>0.2855</td>   <td>0.4595</td> \n",
       "</tr>\n",
       "<tr>\n",
       "  <th>price</th>      <td>-1.4571</td>   <td>0.0417</td>   <td>-34.962</td> <td>0.0000</td>   <td>-1.5388</td>  <td>-1.3754</td>\n",
       "</tr>\n",
       "</table><br/><br/>Endogenous: price<br/>Instruments: shifter1, shifter2, shifter3<br/>Robust Covariance (Heteroskedastic)<br/>Debiased: False"
      ],
      "text/plain": [
       "<class 'linearmodels.compat.statsmodels.Summary'>\n",
       "\"\"\"\n",
       "                          IV-2SLS Estimation Summary                          \n",
       "==============================================================================\n",
       "Dep. Variable:                utility   R-squared:                      0.8400\n",
       "Estimator:                    IV-2SLS   Adj. R-squared:                 0.8393\n",
       "No. Observations:                 970   F-statistic:                    3905.7\n",
       "Date:                Tue, Jan 10 2023   P-value (F-stat)                0.0000\n",
       "Time:                        19:18:45   Distribution:                  chi2(4)\n",
       "Cov. Estimator:                robust                                         \n",
       "                                                                              \n",
       "                             Parameter Estimates                              \n",
       "==============================================================================\n",
       "            Parameter  Std. Err.     T-stat    P-value    Lower CI    Upper CI\n",
       "------------------------------------------------------------------------------\n",
       "Intercept      1.6129     0.2304     7.0003     0.0000      1.1613      2.0644\n",
       "prod_att1      2.4668     0.0478     51.598     0.0000      2.3731      2.5605\n",
       "prod_att2      0.5616     0.0491     11.435     0.0000      0.4653      0.6579\n",
       "prod_att3      0.3725     0.0444     8.3935     0.0000      0.2855      0.4595\n",
       "price         -1.4571     0.0417    -34.962     0.0000     -1.5388     -1.3754\n",
       "==============================================================================\n",
       "\n",
       "Endogenous: price\n",
       "Instruments: shifter1, shifter2, shifter3\n",
       "Robust Covariance (Heteroskedastic)\n",
       "Debiased: False\n",
       "\"\"\""
      ]
     },
     "execution_count": 12,
     "metadata": {},
     "output_type": "execute_result"
    }
   ],
   "source": [
    "iv_logit = IV2SLS.from_formula('utility ~ 1 + [price ~ shifter1 + shifter2 + shifter3] + prod_att1 + prod_att2 + prod_att3', data = df).fit()\n",
    "iv_logit.summary"
   ]
  },
  {
   "cell_type": "markdown",
   "id": "0ca10412",
   "metadata": {},
   "source": [
    "Since we expect the coefficients to be biased towards zero, using an instrument for price makes the coefficient be more negative."
   ]
  },
  {
   "cell_type": "markdown",
   "id": "278b9b0a",
   "metadata": {},
   "source": [
    "**Elasticities** \n",
    "\n",
    "Own-price elasticities: $\\epsilon_{jj} = \\alpha p_{jn} (1-s_{jn})$\n",
    "\n",
    "Cross-price elasticities: $\\epsilon_{jk} = - \\alpha p_{kn} s_{kn}$"
   ]
  },
  {
   "cell_type": "code",
   "execution_count": 13,
   "id": "ece1cc67",
   "metadata": {},
   "outputs": [
    {
     "data": {
      "text/plain": [
       "-7.993652493251072"
      ]
     },
     "execution_count": 13,
     "metadata": {},
     "output_type": "execute_result"
    }
   ],
   "source": [
    "# Own price elasticities \n",
    "df['e_jj'] = iv_logit.params['price'] * df['price'] * (1 - df['prod_share'])\n",
    "# Mean across markets \n",
    "np.mean(df.e_jj)"
   ]
  },
  {
   "cell_type": "code",
   "execution_count": 14,
   "id": "6948d838",
   "metadata": {},
   "outputs": [
    {
     "data": {
      "text/plain": [
       "0.13366860095027766"
      ]
     },
     "execution_count": 14,
     "metadata": {},
     "output_type": "execute_result"
    }
   ],
   "source": [
    "# Cross-price elasticities of any good j wrt k.\n",
    "df['e_jk'] = - iv_logit.params['price'] * df['price'] * df['prod_share']\n",
    "# Mean across markets\n",
    "np.mean(df.e_jk) \n",
    "\n",
    "# I tried weighting the means by market share but it doesn't change much. Not sure what's ideal. "
   ]
  },
  {
   "cell_type": "markdown",
   "id": "212b8409",
   "metadata": {},
   "source": [
    "**Question c)**\n",
    "\n",
    "You will need to construct a GMM objective function with both demand and supply moments, with the price coefficient α entering in both moments (cross-equation restriction). How do your results change compared to the case with just IV?\n"
   ]
  },
  {
   "cell_type": "code",
   "execution_count": null,
   "id": "9a7132b7",
   "metadata": {},
   "outputs": [],
   "source": [
    "## Resources that I used to learn about this: \n",
    "# Carole's help \n",
    "# Info on classes and OOP: https://realpython.com/python3-object-oriented-programming/\n",
    "# GMM estimator: https://www.statsmodels.org/stable/generated/statsmodels.sandbox.regression.gmm.GMM.html#statsmodels.sandbox.regression.gmm.GMM"
   ]
  },
  {
   "cell_type": "code",
   "execution_count": 17,
   "id": "ebe773f2",
   "metadata": {},
   "outputs": [
    {
     "name": "stdout",
     "output_type": "stream",
     "text": [
      "Optimization terminated successfully.\n",
      "         Current function value: 0.000107\n",
      "         Iterations: 23\n",
      "         Function evaluations: 25\n",
      "         Gradient evaluations: 25\n",
      "Optimization terminated successfully.\n",
      "         Current function value: 0.000703\n",
      "         Iterations: 15\n",
      "         Function evaluations: 16\n",
      "         Gradient evaluations: 16\n",
      "Optimization terminated successfully.\n",
      "         Current function value: 0.000703\n",
      "         Iterations: 3\n",
      "         Function evaluations: 6\n",
      "         Gradient evaluations: 6\n",
      "Optimization terminated successfully.\n",
      "         Current function value: 0.000703\n",
      "         Iterations: 0\n",
      "         Function evaluations: 1\n",
      "         Gradient evaluations: 1\n",
      "                              GMMdemand Results                               \n",
      "==============================================================================\n",
      "Dep. Variable:           ['y1', 'y2']   Hansen J:                        1.363\n",
      "Model:                      GMMdemand   Prob (Hansen J):                 0.506\n",
      "Method:                           GMM                                         \n",
      "Date:                Tue, 10 Jan 2023                                         \n",
      "Time:                        19:32:28                                         \n",
      "No. Observations:                 970                                         \n",
      "==============================================================================\n",
      "                 coef    std err          z      P>|z|      [0.025      0.975]\n",
      "------------------------------------------------------------------------------\n",
      "alpha         -1.4547      0.042    -34.994      0.000      -1.536      -1.373\n",
      "beta1          2.4612      0.048     51.808      0.000       2.368       2.554\n",
      "beta2          0.5567      0.049     11.381      0.000       0.461       0.653\n",
      "beta3          0.3752      0.044      8.479      0.000       0.288       0.462\n",
      "gamma1         0.4867      0.033     14.865      0.000       0.423       0.551\n",
      "gamma2         0.5154      0.032     16.008      0.000       0.452       0.579\n",
      "gamma3         0.4583      0.034     13.534      0.000       0.392       0.525\n",
      "k1             1.5994      0.230      6.959      0.000       1.149       2.050\n",
      "k2             4.9140      0.037    132.727      0.000       4.841       4.987\n",
      "==============================================================================\n"
     ]
    }
   ],
   "source": [
    "# Define exog, endog and instruments \n",
    "\n",
    "instrument_df = df[[\"shifter1\", \"shifter2\",\"shifter3\"]]  # instruments\n",
    "exog_df = df[[\"price\", \"prod_share\", \"prod_att1\", \"prod_att2\",\"prod_att3\"]]  # explanatory variables \n",
    "endog_df = df[[\"utility\", \"price\"]] # dependent variable\n",
    "endog, exog, instrument  = map(np.asarray, [endog_df, exog_df, instrument_df]) # Creates matrices\n",
    "\n",
    "\n",
    "class GMMdemand(GMM): \n",
    "    \n",
    "    def momcond(self, params): # This is where we define moment conditions \n",
    "        alpha, beta1, beta2, beta3, gamma1, gamma2, gamma3, k1, k2 = params # define params  \n",
    "\n",
    "        beta = np.array([beta1,beta2,beta3])\n",
    "        gamma = np.array([gamma1,gamma2,gamma3])\n",
    "\n",
    "        x = self.exog # endog, exog, instrument are inputs in the parent class \n",
    "        z = self.instrument\n",
    "        y = self.endog \n",
    "\n",
    "        n_obs = z.shape[0] # Number of observations\n",
    "        price = x[:, 0] # Price\n",
    "        share = x[:, 1] # Market share\n",
    "        exogenous_x = x[:, 2:] # Product characteristics \n",
    "        log_share = y[:, 0] # Log market share\n",
    "\n",
    "        # Moment conditions \n",
    "        m1 = np.array(log_share - k1 * np.ones(n_obs) - alpha * price - beta.dot(exogenous_x.T)).reshape(1,n_obs) # Demand side \n",
    "        m2 = np.array(price - k2 * np.ones(n_obs) - gamma.dot(z.T) + 1/(alpha*(1-share))).reshape(1,n_obs)  # Supply side \n",
    "        m1_all = np.concatenate((m1, m1,m1, m1, m1, m1, m1), axis = 0) \n",
    "        m2_all = np.concatenate((m2, m2,m2, m2), axis = 0)\n",
    "\n",
    "        # Instrument matrix\n",
    "        instruments_m1 = np.concatenate((np.ones(n_obs).reshape(1, n_obs), exogenous_x.T, z.T), axis = 0) \n",
    "        instruments_m2 = np.concatenate((np.ones(n_obs).reshape(1, n_obs), z.T), axis = 0) \n",
    "        instruments =  block_diag(instruments_m1, instruments_m2).T\n",
    "        \n",
    "        errors = block_diag(m1_all, m2_all).T # had to transpose to get the right dimensions \n",
    "        moments = instruments*errors # Creating here our Z'e \n",
    "\n",
    "        return moments\n",
    "\n",
    "\n",
    "model1 = GMMdemand(endog, exog, instrument, k_moms = 11, k_params=9) # Minimization \n",
    "\n",
    "guess = np.array([-1.5, 1, 1, 1, 1, 1, 1, 1, 1]) # Initial guess\n",
    "\n",
    "results_GMM = model1.fit(guess, maxiter=100, optim_method='bfgs', wargs=dict(centered=False)) \n",
    "xnames = [\"alpha\", \"beta1\", \"beta2\", \"beta3\", \"gamma1\", \"gamma2\", \"gamma3\", \"k1\", \"k2\"]\n",
    "print(results_GMM.summary(xname = xnames))\n"
   ]
  },
  {
   "cell_type": "code",
   "execution_count": 18,
   "id": "03100b7c",
   "metadata": {
    "scrolled": false
   },
   "outputs": [
    {
     "data": {
      "text/plain": [
       "array([-1.45474915,  2.46120289,  0.55666892,  0.37522779,  0.48669492,\n",
       "        0.51544953,  0.45833685,  1.59944986,  4.91398468])"
      ]
     },
     "execution_count": 18,
     "metadata": {},
     "output_type": "execute_result"
    }
   ],
   "source": [
    "results_GMM.params"
   ]
  },
  {
   "cell_type": "markdown",
   "id": "ba72df38",
   "metadata": {},
   "source": [
    "Results don't look so different from what we got from IV, suggesting that the supply side doesn't seem to impact much the results. "
   ]
  },
  {
   "cell_type": "markdown",
   "id": "4a335087",
   "metadata": {},
   "source": [
    "### Simulate a merger"
   ]
  },
  {
   "cell_type": "markdown",
   "id": "2c5c4525",
   "metadata": {},
   "source": [
    "For the merged firms (k,j) the supply side equation will be: \n",
    "\n",
    "$$p_k=mc_k - \\frac{1}{\\alpha(1-s_k-s_j)}$$\n",
    "\n",
    "For the firms that don't merge, the supply side equation will be: \n",
    "\n",
    "$$p_f=mc_f - \\frac{1}{\\alpha(1-s_f)}$$\n",
    "\n",
    "For all firms the demand side equation will be: \n",
    "\n",
    "$$s_j= \\frac{e^{k_1+\\alpha p_j+ x_j \\beta} }{1+ \\sum_{k=1}^{J}e^{k_1+\\alpha p_k+ x_k \\beta} }$$"
   ]
  },
  {
   "cell_type": "code",
   "execution_count": 19,
   "id": "d3215c6d",
   "metadata": {},
   "outputs": [],
   "source": [
    "# Identify two largest firms in each market\n",
    "\n",
    "df_grouped = df.groupby('mkt_id')\n",
    "df['first_ms'] = df_grouped.transform(lambda x: x.nlargest(1).min())['prod_share'] # find largest\n",
    "df['second_ms'] = df_grouped.transform(lambda x: x.nlargest(2).min())['prod_share']  # find second largest\n",
    "# dummies = 1 if the firm is one of the merged firms, also dummies for biggest and second biggest firm\n",
    "\n",
    "df['merged_firm'] = np.where((df['prod_share']== df['first_ms']) | (df['prod_share'] == df['second_ms']), 1, 0)\n",
    "\n",
    "\n",
    "df['first_firm'] = np.where((df['prod_share']== df['first_ms']), 1, 0)\n",
    "df['second_firm'] = np.where((df['prod_share'] == df['second_ms']), 1, 0)"
   ]
  },
  {
   "cell_type": "code",
   "execution_count": 20,
   "id": "98354383",
   "metadata": {},
   "outputs": [],
   "source": [
    "# Naming the results of GMM\n",
    "\n",
    "alpha = results_GMM.params[0]\n",
    "beta1= results_GMM.params[1]\n",
    "beta2 = results_GMM.params[2]\n",
    "beta3 = results_GMM.params[3]\n",
    "gamma = results_GMM.params[4:7]\n",
    "k1 = results_GMM.params[7]\n",
    "k2 = results_GMM.params[8]"
   ]
  },
  {
   "cell_type": "code",
   "execution_count": 21,
   "id": "58d98bbe",
   "metadata": {},
   "outputs": [],
   "source": [
    "## Compute mc pre merge\n",
    "\n",
    "mc= df['price'] + 1/(alpha*(1-df['prod_share'])) # marginal cost"
   ]
  },
  {
   "cell_type": "code",
   "execution_count": 22,
   "id": "3767f5f7",
   "metadata": {},
   "outputs": [],
   "source": [
    "price_iter = df.price\n",
    "difference = 1\n",
    "convergence = 1"
   ]
  },
  {
   "cell_type": "code",
   "execution_count": 23,
   "id": "b39eed4e",
   "metadata": {
    "scrolled": true
   },
   "outputs": [
    {
     "data": {
      "text/plain": [
       "9.061285055622648e-11"
      ]
     },
     "execution_count": 23,
     "metadata": {},
     "output_type": "execute_result"
    }
   ],
   "source": [
    "# Solve for markets shares and prices to equate supply side and demand side\n",
    "\n",
    "while convergence >= 1e-10 :\n",
    "\n",
    "\n",
    "    differencepre = difference\n",
    "\n",
    "    price_d = price_iter\n",
    "\n",
    "    # STEP 1: Use demand side eq. to get market shares using observed prices\n",
    "\n",
    "    df['EXP'] = np.exp(k1 + alpha * price_d + beta1 * df['prod_att1'] + beta2 * df['prod_att2'] + beta3 *df['prod_att3'])\n",
    "    df['sumEXP_'] = df.groupby('mkt_id').transform('sum')['EXP']\n",
    "    df['ms_d'] = df['EXP'] / (1 + df['sumEXP_']) # market share using demand equation logit\n",
    "\n",
    "    # STEP 2: Calculate new denominator for supply equation using new shares and parameters\n",
    "\n",
    "    ## first need to compute market shares of merged firms\n",
    "\n",
    "    df['first_ms2'] = np.where((df['first_firm']== 1), df['ms_d'], 0) # MS of largest firm\n",
    "    df['second_ms2'] = np.where((df['second_firm']== 1), df['ms_d'], 0) # MS of second largest firm\n",
    "\n",
    "    df_grouped = df.groupby('mkt_id')\n",
    "\n",
    "    df['first_ms'] = df_grouped.transform('sum')['first_ms2'] # column for ms of largest firm in each market\n",
    "    df['second_ms'] = df_grouped.transform('sum')['second_ms2']\n",
    "\n",
    "    ## denominator of price equation --> 1-si for unmerged firms and 1-si-sj for merged firms\n",
    "\n",
    "    denominator = 1 - df['ms_d'] - df['first_firm']*df['second_ms'] - df['second_firm']*df['first_ms']\n",
    "\n",
    "    # STEP 3: update prices\n",
    "\n",
    "    price_iter = mc - (alpha*(denominator))**(-1)\n",
    "\n",
    "\n",
    "    # Difference between demand and supply prices (euclidean distance), this is what we're minimizing\n",
    "\n",
    "    difference = (price_d - price_iter).T.dot((price_d - price_iter))\n",
    "\n",
    "    # difference between the difference in the last step and the difference in this step\n",
    "\n",
    "    convergence = abs(differencepre - difference)\n",
    "    \n",
    "df['price_iter']=price_iter\n",
    "\n",
    "convergence"
   ]
  },
  {
   "cell_type": "code",
   "execution_count": 24,
   "id": "576532a0",
   "metadata": {
    "scrolled": true
   },
   "outputs": [
    {
     "data": {
      "image/png": "[encoded data removed]",
      "text/plain": [
       "<Figure size 432x288 with 1 Axes>"
      ]
     },
     "metadata": {
      "needs_background": "light"
     },
     "output_type": "display_data"
    }
   ],
   "source": [
    "# Compare pre and post merger\n",
    "\n",
    "largest = df.loc[(df.first_firm == 1)]\n",
    "largest2 = df.loc[(df.second_firm == 1)]\n",
    "\n",
    "fig,ax = plt.subplots()\n",
    "plt.scatter(largest['price'], largest['price_iter'], c='red',label='First' )\n",
    "plt.scatter(largest2['price'], largest2['price_iter'], c='blue',label='Second' )\n",
    "plt.plot( [1,9], [1,9], linestyle='--', color='k' )\n",
    "plt.xlabel('Pre Prices') \n",
    "plt.ylabel('Post Prices') \n",
    "plt.legend()\n",
    "plt.title(label=\"Prices for largest firms before and after merge\",\n",
    "          fontsize=15,\n",
    "          color=\"black\")\n",
    "plt.show()"
   ]
  },
  {
   "cell_type": "markdown",
   "id": "851f5398",
   "metadata": {},
   "source": [
    "Prices of the firms that merged increased, but not a lot. For the largest firms, prices dropped in some cases."
   ]
  },
  {
   "cell_type": "code",
   "execution_count": 25,
   "id": "83b2054b",
   "metadata": {},
   "outputs": [
    {
     "data": {
      "image/png": "[encoded data removed]",
      "text/plain": [
       "<Figure size 432x288 with 1 Axes>"
      ]
     },
     "metadata": {
      "needs_background": "light"
     },
     "output_type": "display_data"
    }
   ],
   "source": [
    "fig,ax = plt.subplots()\n",
    "\n",
    "plt.scatter(largest['prod_share'], largest['ms_d'], c='red',label='First' )\n",
    "plt.scatter(largest2['prod_share'], largest2['ms_d'], c='blue',label='Second' )\n",
    "plt.plot( [0,0.65], [0,0.65], linestyle='--', color='k' )\n",
    "plt.xlabel('Pre Shares') \n",
    "plt.ylabel('Post Shares') \n",
    "plt.legend()\n",
    "plt.title(label=\"Market shares for largest firms before and after merge\",\n",
    "          fontsize=15,\n",
    "          color=\"black\")\n",
    "plt.legend()\n",
    "\n",
    "plt.show()"
   ]
  },
  {
   "cell_type": "code",
   "execution_count": 25,
   "id": "c2458a43",
   "metadata": {},
   "outputs": [
    {
     "data": {
      "text/plain": [
       "count    50.000000\n",
       "mean    -42.892569\n",
       "std      35.606415\n",
       "min     -94.658612\n",
       "25%     -73.725662\n",
       "50%     -43.531750\n",
       "75%     -18.540519\n",
       "max      35.718083\n",
       "Name: diff, dtype: float64"
      ]
     },
     "execution_count": 25,
     "metadata": {},
     "output_type": "execute_result"
    }
   ],
   "source": [
    "df['diff']=(largest['ms_d']-largest['prod_share'])*100/largest['prod_share']\n",
    "df['diff'].describe()"
   ]
  },
  {
   "cell_type": "markdown",
   "id": "ad61d97e",
   "metadata": {},
   "source": [
    "Market shares decreased after the merge, specially for the largest firms in the different market. The median was a 43% decrease in market share."
   ]
  },
  {
   "cell_type": "markdown",
   "id": "a0d344f3",
   "metadata": {},
   "source": [
    "## 2.2 Nested Logit Demand"
   ]
  },
  {
   "cell_type": "markdown",
   "id": "5504edbc",
   "metadata": {},
   "source": [
    "**Question a)**\n",
    "\n",
    "Estimate a Nested Logit Model using IV based on the following: \n",
    "\n",
    "$$u_{ijn} = \\alpha p_{jn} + x_{jn} \\beta + \\xi_{jn} + \\zeta_{ign} + (1-\\sigma)\\varepsilon_{ijn}$$"
   ]
  },
  {
   "cell_type": "markdown",
   "id": "c9207b75",
   "metadata": {},
   "source": [
    "We'll estimate: \n",
    "\n",
    "$$log(\\frac{s_{jn}}{s_{0n}}) = \\alpha p_{jn} + x_{jn} \\beta + \\sigma log(\\frac{s_{jn}}{s_{gn}}) + \\xi_{jn}$$\n",
    "\n",
    "Got help from https://pyblp.readthedocs.io/en/stable/_notebooks/tutorial/logit_nested.html"
   ]
  },
  {
   "cell_type": "code",
   "execution_count": 26,
   "id": "7fcd12a9",
   "metadata": {},
   "outputs": [],
   "source": [
    "# Creating group shares \n",
    "df['group_share'] = df.groupby(['group', 'mkt_id'])['prod_share'].transform('sum')\n",
    "\n",
    "# Creating ratio of product share to group share \n",
    "df['sjn_sgn'] = np.log(df['prod_share']/df['group_share'])\n"
   ]
  },
  {
   "cell_type": "code",
   "execution_count": 27,
   "id": "95aceb3d",
   "metadata": {
    "scrolled": true
   },
   "outputs": [
    {
     "data": {
      "text/html": [
       "<table class=\"simpletable\">\n",
       "<caption>IV-GMM Estimation Summary</caption>\n",
       "<tr>\n",
       "  <th>Dep. Variable:</th>         <td>utility</td>     <th>  R-squared:         </th> <td>0.8998</td> \n",
       "</tr>\n",
       "<tr>\n",
       "  <th>Estimator:</th>             <td>IV-GMM</td>      <th>  Adj. R-squared:    </th> <td>0.8993</td> \n",
       "</tr>\n",
       "<tr>\n",
       "  <th>No. Observations:</th>        <td>970</td>       <th>  F-statistic:       </th> <td>6272.3</td> \n",
       "</tr>\n",
       "<tr>\n",
       "  <th>Date:</th>             <td>Thu, Jan 12 2023</td> <th>  P-value (F-stat)   </th> <td>0.0000</td> \n",
       "</tr>\n",
       "<tr>\n",
       "  <th>Time:</th>                 <td>20:30:47</td>     <th>  Distribution:      </th> <td>chi2(5)</td>\n",
       "</tr>\n",
       "<tr>\n",
       "  <th>Cov. Estimator:</th>        <td>robust</td>      <th>                     </th>    <td></td>    \n",
       "</tr>\n",
       "<tr>\n",
       "  <th></th>                          <td></td>         <th>                     </th>    <td></td>    \n",
       "</tr>\n",
       "</table>\n",
       "<table class=\"simpletable\">\n",
       "<caption>Parameter Estimates</caption>\n",
       "<tr>\n",
       "      <td></td>      <th>Parameter</th> <th>Std. Err.</th> <th>T-stat</th>  <th>P-value</th> <th>Lower CI</th> <th>Upper CI</th>\n",
       "</tr>\n",
       "<tr>\n",
       "  <th>Intercept</th>  <td>0.3822</td>    <td>0.9661</td>   <td>0.3956</td>  <td>0.6924</td>   <td>-1.5112</td>  <td>2.2757</td> \n",
       "</tr>\n",
       "<tr>\n",
       "  <th>prod_att1</th>  <td>2.2253</td>    <td>0.1872</td>   <td>11.890</td>  <td>0.0000</td>   <td>1.8584</td>   <td>2.5921</td> \n",
       "</tr>\n",
       "<tr>\n",
       "  <th>prod_att2</th>  <td>0.3788</td>    <td>0.1441</td>   <td>2.6286</td>  <td>0.0086</td>   <td>0.0964</td>   <td>0.6612</td> \n",
       "</tr>\n",
       "<tr>\n",
       "  <th>prod_att3</th>  <td>0.2909</td>    <td>0.0744</td>   <td>3.9078</td>  <td>0.0001</td>   <td>0.1450</td>   <td>0.4369</td> \n",
       "</tr>\n",
       "<tr>\n",
       "  <th>price</th>      <td>-1.0505</td>   <td>0.3159</td>   <td>-3.3254</td> <td>0.0009</td>   <td>-1.6696</td>  <td>-0.4313</td>\n",
       "</tr>\n",
       "<tr>\n",
       "  <th>sjn_sgn</th>    <td>0.2923</td>    <td>0.2268</td>   <td>1.2887</td>  <td>0.1975</td>   <td>-0.1522</td>  <td>0.7368</td> \n",
       "</tr>\n",
       "</table><br/><br/>Endogenous: price, sjn_sgn<br/>Instruments: shifter1, shifter2, shifter3<br/>GMM Covariance<br/>Debiased: False<br/>Robust (Heteroskedastic)"
      ],
      "text/plain": [
       "<class 'linearmodels.compat.statsmodels.Summary'>\n",
       "\"\"\"\n",
       "                          IV-GMM Estimation Summary                           \n",
       "==============================================================================\n",
       "Dep. Variable:                utility   R-squared:                      0.8998\n",
       "Estimator:                     IV-GMM   Adj. R-squared:                 0.8993\n",
       "No. Observations:                 970   F-statistic:                    6272.3\n",
       "Date:                Thu, Jan 12 2023   P-value (F-stat)                0.0000\n",
       "Time:                        20:30:47   Distribution:                  chi2(5)\n",
       "Cov. Estimator:                robust                                         \n",
       "                                                                              \n",
       "                             Parameter Estimates                              \n",
       "==============================================================================\n",
       "            Parameter  Std. Err.     T-stat    P-value    Lower CI    Upper CI\n",
       "------------------------------------------------------------------------------\n",
       "Intercept      0.3822     0.9661     0.3956     0.6924     -1.5112      2.2757\n",
       "prod_att1      2.2253     0.1872     11.890     0.0000      1.8584      2.5921\n",
       "prod_att2      0.3788     0.1441     2.6286     0.0086      0.0964      0.6612\n",
       "prod_att3      0.2909     0.0744     3.9078     0.0001      0.1450      0.4369\n",
       "price         -1.0505     0.3159    -3.3254     0.0009     -1.6696     -0.4313\n",
       "sjn_sgn        0.2923     0.2268     1.2887     0.1975     -0.1522      0.7368\n",
       "==============================================================================\n",
       "\n",
       "Endogenous: price, sjn_sgn\n",
       "Instruments: shifter1, shifter2, shifter3\n",
       "GMM Covariance\n",
       "Debiased: False\n",
       "Robust (Heteroskedastic)\n",
       "\"\"\""
      ]
     },
     "execution_count": 27,
     "metadata": {},
     "output_type": "execute_result"
    }
   ],
   "source": [
    "nest_logit = IVGMM.from_formula('utility ~ 1 + [price + sjn_sgn ~ shifter1 + shifter2 + shifter3] + prod_att1 + prod_att2 + prod_att3', data=df)\n",
    "\n",
    "res_nest_logit = nest_logit.fit()\n",
    "\n",
    "res_nest_logit.summary"
   ]
  },
  {
   "cell_type": "markdown",
   "id": "77d3ce5e",
   "metadata": {},
   "source": [
    "The price coefficient is lower than in the logit model which makes sense because now the log of share relative to the group takes some explanatory power. Sigma is 0.3 which means that the correlation of the within-group preference is not very strong."
   ]
  },
  {
   "cell_type": "markdown",
   "id": "7094470d",
   "metadata": {},
   "source": [
    "**Own-price elasticities** \n",
    "\n",
    "Products in a nest: $\\epsilon_{jj} = \\frac{\\alpha p_{jn}}{1-\\sigma} (1-\\sigma s_{j|g,n} - (1-\\sigma)s_{jn})$\n"
   ]
  },
  {
   "cell_type": "code",
   "execution_count": 29,
   "id": "1ff3f34e",
   "metadata": {},
   "outputs": [],
   "source": [
    "\n",
    "results = pd.read_html(res_nest_logit.summary.tables[1].as_html(),header=0,index_col=0)[0]\n",
    "\n",
    "alpha = results['Parameter'].values[4]\n",
    "sigma = results['Parameter'].values[5]"
   ]
  },
  {
   "cell_type": "code",
   "execution_count": 30,
   "id": "3d33e5a6",
   "metadata": {},
   "outputs": [
    {
     "data": {
      "text/plain": [
       "-7.876126607393617"
      ]
     },
     "execution_count": 30,
     "metadata": {},
     "output_type": "execute_result"
    }
   ],
   "source": [
    "# All the products are in a nest \n",
    "df['e_jj_nest'] = (alpha * df['price'])/(1 - sigma) * (1 - sigma * (df['prod_share']/df['group_share']) - (1 - sigma) * df['prod_share'])\n",
    "np.mean(df.e_jj_nest)"
   ]
  },
  {
   "cell_type": "markdown",
   "id": "507f9892",
   "metadata": {},
   "source": [
    "**Cross-price elasticities** \n",
    "\n",
    "Products in different nests: $\\epsilon_{jk} = - \\alpha p_{kn} s_{kn}$\n",
    "\n",
    "Products in the same nest: $\\epsilon{jk} = - \\frac{\\alpha p_{kn}}{1 - \\sigma}(\\sigma s_{k|g,n} + (1 - \\sigma)s_{kn})$"
   ]
  },
  {
   "cell_type": "markdown",
   "id": "b155c25d",
   "metadata": {},
   "source": [
    "Average cross-price elasticity:\n",
    "\n",
    "$$ \\bar{\\varepsilon_{jk}}= \\frac{\\sum_g \\left( \\sum_{jg} \\varepsilon_{jg,kg}\\times (N_g-1) + \\sum_{g'\\neq g} \\sum_{jg} \\varepsilon_{jg,kg'} \\ast (N-N_g)\\right)}{N(N-1)} $$\n",
    "\n",
    "Mean within group elasticities:\n",
    "\n",
    "$$ \\bar{\\varepsilon_{within}}= \\frac{\\sum_m  \\sum_g \\left( \\sum_{j} \\varepsilon_{jgm,kgm}\\times (N_{mg}-1) \\right)}{\\sum_m \\sum_g (N_{gm}-1)} $$\n",
    "where $N_{mg}$ is the number of $g$-group products in market $m$.\n",
    "\n",
    "Mean across group elasticities\n",
    "\n",
    "$$ \\bar{\\varepsilon_{across}}= \\frac{\\sum_m  \\sum_{g' \\neq g} \\left( \\sum_{j} \\varepsilon_{jgm,kg'm}\\times (N_m-N_{mg}) \\right)}{\\sum_m \\sum_{g' \\neq g} N_m-N_{mg}} $$"
   ]
  },
  {
   "cell_type": "code",
   "execution_count": 87,
   "id": "055c0529",
   "metadata": {},
   "outputs": [],
   "source": [
    "# Products in different nests \n",
    "df['diff'] = - alpha * df['price'] * df['prod_share']\n",
    "\n",
    "df['same'] = - (alpha * df['price'])/(1 - sigma) * ( sigma * (df['prod_share']/df['group_share']) + (1 - sigma) * df['prod_share'])\n",
    " \n",
    "\n",
    "N = sum(df.groupby(['prod_id', 'mkt_id']).transform('count')['group'])\n",
    "df['Ng'] = df.groupby(['group']).transform('count')['prod_share']\n",
    "df['Nm'] = df.groupby(['mkt_id']).transform('count')['group']\n",
    "df['Nmg'] = df.groupby(['group', 'mkt_id']).transform('count')['prod_share']\n"
   ]
  },
  {
   "cell_type": "code",
   "execution_count": 88,
   "id": "92ed727c",
   "metadata": {},
   "outputs": [
    {
     "data": {
      "text/plain": [
       "0.19868297659816603"
      ]
     },
     "execution_count": 88,
     "metadata": {},
     "output_type": "execute_result"
    }
   ],
   "source": [
    "#Average cross-price elasticity\n",
    "(sum(df['same'] * (df['Ng']-1) + df['diff'] * (N - df['Ng'])) ) / (N * (N-1))\n"
   ]
  },
  {
   "cell_type": "code",
   "execution_count": 93,
   "id": "8604d2bc",
   "metadata": {
    "scrolled": false
   },
   "outputs": [
    {
     "name": "stdout",
     "output_type": "stream",
     "text": [
      "   mkt_id  prod_id  group      same  Nm   Ng  Nmg\n",
      "0       1        1      3  0.003016  20  330   10\n",
      "1       1        2      2  0.017505  20  320    5\n",
      "2       1        3      2  0.068193  20  320    5\n",
      "3       1        4      1  1.948488  20  320    5\n",
      "4       1        5      3  0.006906  20  330   10\n",
      "5       1        6      2  1.640932  20  320    5\n",
      "6       1        7      1  0.006124  20  320    5\n",
      "7       1        8      3  0.013805  20  330   10\n",
      "8       1        9      2  0.011525  20  320    5\n",
      "9       1       10      1  0.049344  20  320    5\n"
     ]
    }
   ],
   "source": [
    "print(df[['mkt_id', 'prod_id', 'group', 'same','Nm', 'Ng', 'Nmg']].head(10))"
   ]
  },
  {
   "cell_type": "code",
   "execution_count": 90,
   "id": "bdc9ba1e",
   "metadata": {},
   "outputs": [
    {
     "data": {
      "text/plain": [
       "0.35357156135623197"
      ]
     },
     "execution_count": 90,
     "metadata": {},
     "output_type": "execute_result"
    }
   ],
   "source": [
    "# mean within group elasticities\n",
    "\n",
    "sum(df['same'] * (df['Nmg']-1)) / sum(df['Nmg'] - 1)"
   ]
  },
  {
   "cell_type": "code",
   "execution_count": 94,
   "id": "feb28b42",
   "metadata": {},
   "outputs": [
    {
     "data": {
      "text/plain": [
       "0.09588551763000888"
      ]
     },
     "execution_count": 94,
     "metadata": {},
     "output_type": "execute_result"
    }
   ],
   "source": [
    "# mean across group elasticities\n",
    "\n",
    "(sum(df['diff'] * (df['Nm'] - df['Nmg']))) / (sum(df['Nm'] - df['Nmg']))"
   ]
  },
  {
   "cell_type": "markdown",
   "id": "490cf5c9",
   "metadata": {},
   "source": [
    "The average within group elasticity is much larger than the cross-group elasticities, which makes sense given the assumption of the structure of cross-elasticities in the nested logit model.\n"
   ]
  },
  {
   "cell_type": "markdown",
   "id": "51d21661",
   "metadata": {},
   "source": [
    "## 2.3 Random Coefficient Logit"
   ]
  },
  {
   "cell_type": "code",
   "execution_count": 53,
   "id": "c6b9af46",
   "metadata": {},
   "outputs": [],
   "source": [
    "colnames=['market_ids', 'product_ids', 'shares', 'prod_att1', 'prod_att2', 'prod_att3', 'prices', 'demand_instruments0', 'demand_instruments1', 'demand_instruments2', 'group'] \n",
    "product_data = pd.read_csv('../data/Data.csv', names=colnames, header=None)"
   ]
  },
  {
   "cell_type": "code",
   "execution_count": 54,
   "id": "22c9c4f9",
   "metadata": {},
   "outputs": [],
   "source": [
    "product_data['supply_instruments3'] = np.square(df['prod_att1'])\n",
    "product_data['supply_instruments4'] = np.square(df['prod_att2'])\n",
    "product_data['supply_instruments5'] = np.square(df['prod_att3'])\n",
    "product_data['demand_instruments3'] = np.square(df['demand_instruments0'])\n",
    "product_data['demand_instruments4'] = np.square(df['demand_instruments1'])\n",
    "product_data['demand_instruments5'] = np.square(df['demand_instruments2'])"
   ]
  },
  {
   "cell_type": "code",
   "execution_count": 55,
   "id": "bd75a81a",
   "metadata": {},
   "outputs": [
    {
     "data": {
      "text/plain": [
       "(1 + prices + prod_att1 + prod_att2 + prod_att3,\n",
       " prices + prod_att1 + prod_att2 + prod_att3)"
      ]
     },
     "execution_count": 55,
     "metadata": {},
     "output_type": "execute_result"
    }
   ],
   "source": [
    "X1_formulation = pyblp.Formulation('1 + prices + prod_att1 + prod_att2 + prod_att3')\n",
    "X2_formulation = pyblp.Formulation('0 + prices + prod_att1 + prod_att2 + prod_att3')\n",
    "product_formulations = (X1_formulation, X2_formulation)\n",
    "product_formulations"
   ]
  },
  {
   "cell_type": "code",
   "execution_count": 56,
   "id": "5a499f85",
   "metadata": {},
   "outputs": [
    {
     "data": {
      "text/plain": [
       "Configured to construct nodes and weights with Monte Carlo simulation with options {seed: 0}."
      ]
     },
     "execution_count": 56,
     "metadata": {},
     "output_type": "execute_result"
    }
   ],
   "source": [
    "mc_integration = pyblp.Integration('monte_carlo', size=50, specification_options={'seed': 0})\n",
    "mc_integration"
   ]
  },
  {
   "cell_type": "code",
   "execution_count": 57,
   "id": "f355995b",
   "metadata": {
    "scrolled": true
   },
   "outputs": [
    {
     "data": {
      "text/plain": [
       "Dimensions:\n",
       "================================\n",
       " T    N    I     K1    K2    MD \n",
       "---  ---  ----  ----  ----  ----\n",
       "50   970  2500   5     4     10 \n",
       "================================\n",
       "\n",
       "Formulations:\n",
       "=================================================================================\n",
       "       Column Indices:           0         1          2          3          4    \n",
       "-----------------------------  ------  ---------  ---------  ---------  ---------\n",
       " X1: Linear Characteristics      1      prices    prod_att1  prod_att2  prod_att3\n",
       "X2: Nonlinear Characteristics  prices  prod_att1  prod_att2  prod_att3           \n",
       "================================================================================="
      ]
     },
     "execution_count": 57,
     "metadata": {},
     "output_type": "execute_result"
    }
   ],
   "source": [
    "mc_problem = pyblp.Problem(product_formulations, product_data, integration=mc_integration)\n",
    "mc_problem"
   ]
  },
  {
   "cell_type": "code",
   "execution_count": 58,
   "id": "5edf19cd",
   "metadata": {
    "scrolled": true
   },
   "outputs": [
    {
     "data": {
      "text/plain": [
       "Configured to optimize using the BFGS algorithm implemented in SciPy with analytic gradients and options {gtol: +1.0E-04}."
      ]
     },
     "execution_count": 58,
     "metadata": {},
     "output_type": "execute_result"
    }
   ],
   "source": [
    "bfgs = pyblp.Optimization('bfgs', {'gtol': 1e-4})\n",
    "bfgs"
   ]
  },
  {
   "cell_type": "code",
   "execution_count": 59,
   "id": "cc1c8161",
   "metadata": {},
   "outputs": [
    {
     "data": {
      "text/plain": [
       "Problem Results Summary:\n",
       "=======================================================================================================\n",
       "GMM   Objective  Gradient      Hessian         Hessian     Clipped  Weighting Matrix  Covariance Matrix\n",
       "Step    Value      Norm    Min Eigenvalue  Max Eigenvalue  Shares   Condition Number  Condition Number \n",
       "----  ---------  --------  --------------  --------------  -------  ----------------  -----------------\n",
       " 2    +6.4E-01   +5.2E-05     +3.3E+00        +6.7E+01        0         +8.3E+01          +4.1E+04     \n",
       "=======================================================================================================\n",
       "\n",
       "Cumulative Statistics:\n",
       "===========================================================================\n",
       "Computation  Optimizer  Optimization   Objective   Fixed Point  Contraction\n",
       "   Time      Converged   Iterations   Evaluations  Iterations   Evaluations\n",
       "-----------  ---------  ------------  -----------  -----------  -----------\n",
       " 00:00:12       Yes          29           38          13624        42681   \n",
       "===========================================================================\n",
       "\n",
       "Nonlinear Coefficient Estimates (Robust SEs in Parentheses):\n",
       "=========================================================\n",
       " Sigma:      prices    prod_att1   prod_att2   prod_att3 \n",
       "---------  ----------  ----------  ----------  ----------\n",
       " prices     -1.6E-01                                     \n",
       "           (+2.7E-01)                                    \n",
       "                                                         \n",
       "prod_att1   +0.0E+00    +1.2E+00                         \n",
       "                       (+2.0E-01)                        \n",
       "                                                         \n",
       "prod_att2   +0.0E+00    +0.0E+00    +3.3E-01             \n",
       "                                   (+5.4E-01)            \n",
       "                                                         \n",
       "prod_att3   +0.0E+00    +0.0E+00    +0.0E+00    +4.3E-01 \n",
       "                                               (+3.8E-01)\n",
       "=========================================================\n",
       "\n",
       "Beta Estimates (Robust SEs in Parentheses):\n",
       "==========================================================\n",
       "    1         prices    prod_att1   prod_att2   prod_att3 \n",
       "----------  ----------  ----------  ----------  ----------\n",
       " +1.4E+00    -1.6E+00    +3.1E+00    +6.0E-01    +3.8E-01 \n",
       "(+1.0E+00)  (+2.9E-01)  (+2.7E-01)  (+5.3E-02)  (+8.5E-02)\n",
       "=========================================================="
      ]
     },
     "execution_count": 59,
     "metadata": {},
     "output_type": "execute_result"
    }
   ],
   "source": [
    "# Results with restricted diagonal matrix for random tastes using Monte Carlo Integration.\n",
    "\n",
    "results1 = mc_problem.solve(sigma=np.eye(4), optimization=bfgs)\n",
    "results1"
   ]
  },
  {
   "cell_type": "code",
   "execution_count": 71,
   "id": "0cfe6095",
   "metadata": {},
   "outputs": [],
   "source": [
    "elasticities = results1.compute_elasticities()"
   ]
  },
  {
   "cell_type": "code",
   "execution_count": 72,
   "id": "45045284",
   "metadata": {},
   "outputs": [
    {
     "data": {
      "image/png": "[encoded data removed]",
      "text/plain": [
       "<Figure size 450x288 with 2 Axes>"
      ]
     },
     "metadata": {
      "needs_background": "light"
     },
     "output_type": "display_data"
    }
   ],
   "source": [
    "#Example of the elasticity matrix for market 4\n",
    "\n",
    "single_market = product_data['market_ids'] == 4\n",
    "plt.colorbar(plt.matshow(elasticities[single_market]));"
   ]
  },
  {
   "cell_type": "markdown",
   "id": "58891240",
   "metadata": {},
   "source": [
    "The diagonal of the first image consists of own elasticities and the diagonal of the second image consists of diversion ratios to the outside good. "
   ]
  },
  {
   "cell_type": "code",
   "execution_count": 62,
   "id": "32b79d63",
   "metadata": {},
   "outputs": [],
   "source": [
    "means = results1.extract_diagonal_means(elasticities)"
   ]
  },
  {
   "cell_type": "code",
   "execution_count": 63,
   "id": "c36020e2",
   "metadata": {},
   "outputs": [
    {
     "data": {
      "image/png": "[encoded data removed]",
      "text/plain": [
       "<Figure size 432x288 with 1 Axes>"
      ]
     },
     "metadata": {
      "needs_background": "light"
     },
     "output_type": "display_data"
    }
   ],
   "source": [
    "plt.hist(\n",
    "    [means.flatten()],\n",
    "    color=['blue'],\n",
    "    bins=60\n",
    ");\n",
    "plt.legend(['Mean Own Elasticities']);"
   ]
  },
  {
   "cell_type": "code",
   "execution_count": 64,
   "id": "aa8befb4",
   "metadata": {},
   "outputs": [
    {
     "data": {
      "text/plain": [
       "Problem Results Summary:\n",
       "=======================================================================================================\n",
       "GMM   Objective  Gradient      Hessian         Hessian     Clipped  Weighting Matrix  Covariance Matrix\n",
       "Step    Value      Norm    Min Eigenvalue  Max Eigenvalue  Shares   Condition Number  Condition Number \n",
       "----  ---------  --------  --------------  --------------  -------  ----------------  -----------------\n",
       " 2    +1.2E-12   +7.3E-06     -1.4E-04        +4.7E+01        0         +9.8E+01          +1.3E+18     \n",
       "=======================================================================================================\n",
       "\n",
       "Cumulative Statistics:\n",
       "===========================================================================\n",
       "Computation  Optimizer  Optimization   Objective   Fixed Point  Contraction\n",
       "   Time      Converged   Iterations   Evaluations  Iterations   Evaluations\n",
       "-----------  ---------  ------------  -----------  -----------  -----------\n",
       " 00:00:20       Yes          26           35          17925        55531   \n",
       "===========================================================================\n",
       "\n",
       "Nonlinear Coefficient Estimates (Robust SEs in Parentheses):\n",
       "============================================================================================================================\n",
       " Sigma:      prices    prod_att1   prod_att2   prod_att3   |  Sigma Squared:    prices    prod_att1   prod_att2   prod_att3 \n",
       "---------  ----------  ----------  ----------  ----------  |  --------------  ----------  ----------  ----------  ----------\n",
       " prices     +6.0E-01                                       |      prices       +3.6E-01    +5.2E-01    -1.5E-01    -5.5E-01 \n",
       "           (+2.0E-01)                                      |                  (+2.4E-01)  (+3.2E-01)  (+2.9E-01)  (+7.0E-01)\n",
       "                                                           |                                                                \n",
       "prod_att1   +8.7E-01    -6.9E-01                           |    prod_att1      +5.2E-01    +1.2E+00    -2.4E-02    -7.8E-01 \n",
       "           (+3.9E-01)  (+3.6E-01)                          |                  (+3.2E-01)  (+6.6E-01)  (+1.0E+00)  (+9.4E-01)\n",
       "                                                           |                                                                \n",
       "prod_att2   -2.4E-01    -2.7E-01    -3.7E-01               |    prod_att2      -1.5E-01    -2.4E-02    +2.6E-01    -1.5E-01 \n",
       "           (+5.0E-01)  (+8.0E-01)  (+9.3E-01)              |                  (+2.9E-01)  (+1.0E+00)  (+5.3E-01)  (+7.8E-01)\n",
       "                                                           |                                                                \n",
       "prod_att3   -9.1E-01    -6.2E-04    +9.9E-01    +1.1E-01   |    prod_att3      -5.5E-01    -7.8E-01    -1.5E-01    +1.8E+00 \n",
       "           (+1.1E+00)  (+4.3E-01)  (+2.7E-01)  (+9.2E-02)  |                  (+7.0E-01)  (+9.4E-01)  (+7.8E-01)  (+2.1E+00)\n",
       "============================================================================================================================\n",
       "\n",
       "Beta Estimates (Robust SEs in Parentheses):\n",
       "==========================================================\n",
       "    1         prices    prod_att1   prod_att2   prod_att3 \n",
       "----------  ----------  ----------  ----------  ----------\n",
       " +2.7E+00    -1.9E+00    +2.2E+00    +8.2E-01    +1.3E+00 \n",
       "(+6.4E-01)  (+2.0E-01)  (+3.3E-01)  (+3.5E-01)  (+6.5E-01)\n",
       "=========================================================="
      ]
     },
     "execution_count": 64,
     "metadata": {},
     "output_type": "execute_result"
    }
   ],
   "source": [
    "# Results using unrestricted covariance matrix for random tastes using Monte Carlo integration.\n",
    "results2 = mc_problem.solve(sigma=np.ones((4, 4)), optimization=bfgs)\n",
    "results2"
   ]
  },
  {
   "cell_type": "code",
   "execution_count": 65,
   "id": "c5e51122",
   "metadata": {},
   "outputs": [],
   "source": [
    "elasticities = results2.compute_elasticities()"
   ]
  },
  {
   "cell_type": "code",
   "execution_count": 66,
   "id": "ec917460",
   "metadata": {},
   "outputs": [
    {
     "data": {
      "image/png": "[encoded data removed]",
      "text/plain": [
       "<Figure size 450x288 with 2 Axes>"
      ]
     },
     "metadata": {
      "needs_background": "light"
     },
     "output_type": "display_data"
    }
   ],
   "source": [
    "#Example of the elasticity matrix for market 4\n",
    "\n",
    "single_market = product_data['market_ids'] == 4\n",
    "plt.colorbar(plt.matshow(elasticities[single_market]));"
   ]
  },
  {
   "cell_type": "code",
   "execution_count": 67,
   "id": "d58d51c7",
   "metadata": {},
   "outputs": [],
   "source": [
    "means = results2.extract_diagonal_means(elasticities)"
   ]
  },
  {
   "cell_type": "code",
   "execution_count": 68,
   "id": "5e77d04d",
   "metadata": {},
   "outputs": [
    {
     "data": {
      "image/png": "[encoded data removed]",
      "text/plain": [
       "<Figure size 432x288 with 1 Axes>"
      ]
     },
     "metadata": {
      "needs_background": "light"
     },
     "output_type": "display_data"
    }
   ],
   "source": [
    "plt.hist(\n",
    "    [means.flatten()],\n",
    "    color=['blue'],\n",
    "    bins=60\n",
    ");\n",
    "plt.legend(['Mean Own Elasticities']);"
   ]
  }
 ],
 "metadata": {
  "kernelspec": {
   "display_name": "Python 3",
   "language": "python",
   "name": "python3"
  },
  "language_info": {
   "codemirror_mode": {
    "name": "ipython",
    "version": 3
   },
   "file_extension": ".py",
   "mimetype": "text/x-python",
   "name": "python",
   "nbconvert_exporter": "python",
   "pygments_lexer": "ipython3",
   "version": "3.8.8"
  },
  "vscode": {
   "interpreter": {
    "hash": "12378330c2209a9df4cbf7c0520aaa5a4039838045573665c3c52dcf8dce40e4"
   }
  }
 },
 "nbformat": 4,
 "nbformat_minor": 5
}
